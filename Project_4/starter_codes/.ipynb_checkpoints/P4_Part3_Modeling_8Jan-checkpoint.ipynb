{
 "cells": [
  {
   "cell_type": "markdown",
   "metadata": {},
   "source": [
    "# DSI Project 4 - West Nile Virus Prediction\n",
    "\n",
    "# Part 3 - Modeling"
   ]
  },
  {
   "cell_type": "markdown",
   "metadata": {},
   "source": [
    "`Alex | Elliot | Mak | Robby`\n",
    "\n",
    "In the previous workbook (Part 2 - Prepocessing), we have combined the data from our `train` and `weather` datasets, performed feature selection and engineering, and subsequently modified the datasets into a suitable format for modelling.\n",
    "\n",
    "In this workbook, we will fit our data into 3 different models:\n",
    "1. Gradient Boost\n",
    "2. Adaboost\n",
    "3. Extreme Gradient Boost\n",
    "\n",
    "We will then generate predictions on our test data and analyze the results accordingly."
   ]
  },
  {
   "cell_type": "markdown",
   "metadata": {},
   "source": [
    "## Contents\n",
    "\n",
    "- [1. Handling of the data](#1.-Handling-of-the-data)\n",
    "    - [1.1. Load the modified train data](#1.1.-Load-the-modified-train-data)\n",
    "- [2. Model Prep using GridSearch with scaling and SMOTE (Gradient Boost, Adaboost and Extreme Gradient Boost)](#2.-Model-Prep-using-GridSearch-with-scaling-and-SMOTE-(Gradient-Boost,-Adaboost-and-Extreme-Gradient-Boost))\n",
    "    - [2.1. Computing ROC curve](#2.1.-Computing-ROC-curve)\n",
    "    - [2.2. Examining Feature Importances](#2.2.-Examining-Feature-Importances)\n",
    "- [3. Misclassification Analysis](#3.-Misclassification-Analysis)\n",
    "    - [3.1. Misclassification Analysis of the Gradient Boost model](#3.1.-Misclassification-Analysis-of-the-Gradient-Boost-model)\n",
    "    - [3.2. Misclassification Analysis of the AdaBoost model](#3.2.-Misclassification-Analysis-of-the-AdaBoost-model)\n",
    "    - [3.3. Misclassification Analysis of the Extreme GradientBoost model](#3.3.-Misclassification-Analysis-of-the-Extreme-GradientBoost-model)\n",
    "- [4. Production Model: creating a voting ensemble using our 3 models](#4.-Production-Model:-creating-a-voting-ensemble-using-our-3-models)\n",
    "    - [4.1. Kaggle Scoring](#4.1.-Kaggle-Scoring)\n",
    "- [5. Overview of Spraying Control Measures](#5.-Overview-of-Spraying-Control-Measures)\n",
    "    - [5.1. Efficacy of Spraying](#5.1.-Efficacy-of-Spraying)\n",
    "    - [5.2. Reactionary Control Measures](#5.2.-Reactionary-Control-Measures)\n",
    "    - [5.3. Proactive Control Measures](#5.3.-Proactive-Control-Measures)\n",
    "    - [5.4. Reactive vs Proactive approach to vector control](#5.4.-Reactive-vs-Proactive-approach-to-vector-control)\n",
    "    - [5.5. Historical costs of vector control](#5.5.-Historical-costs-of-vector-control)\n",
    "- [6. Cost Benefit Analysis & Recommendations](#6.-Cost-Benefit-Analysis-&-Recommendations)\n",
    "    - [6.1. Human costs of WNV Disease](#6.1.-Human-costs-of-WNV-Disease)\n",
    "    - [6.2. Annual Cost](#6.2.-Annual-Cost)\n",
    "    - [6.3. Annual Benefit](#6.3.-Annual-Benefit)\n",
    "    - [6.4. Recommendations](#6.4.-Recommendations)\n",
    "- [7. Conclusions](#7.-Conclusions)\n",
    "- [8. References](#8.-References)"
   ]
  },
  {
   "cell_type": "markdown",
   "metadata": {},
   "source": [
    "## 1. Handling of the data\n",
    "[top](#Contents)"
   ]
  },
  {
   "cell_type": "code",
   "execution_count": 1,
   "metadata": {},
   "outputs": [],
   "source": [
    "import numpy as np\n",
    "import pandas as pd\n",
    "pd.set_option('display.max_columns', None)\n",
    "pd.set_option('display.max_rows', 150)\n",
    "import matplotlib.pyplot as plt\n",
    "%matplotlib inline\n",
    "import seaborn as sns\n",
    "\n",
    "from sklearn.preprocessing import StandardScaler\n",
    "from sklearn.model_selection import train_test_split, GridSearchCV, cross_val_score\n",
    "from imblearn.over_sampling import SMOTE\n",
    "# using imblearn pipeline instead of sklearn pipeline\n",
    "from imblearn.pipeline import Pipeline, make_pipeline\n",
    "\n",
    "# import models\n",
    "from sklearn.ensemble import RandomForestClassifier, ExtraTreesClassifier, GradientBoostingClassifier, AdaBoostClassifier\n",
    "from sklearn.svm import SVC\n",
    "from xgboost import XGBClassifier\n",
    "\n",
    "# import ensemble for voting classification\n",
    "from sklearn.ensemble import VotingClassifier\n",
    "\n",
    "# importing metrics\n",
    "from sklearn.metrics import confusion_matrix, classification_report, plot_roc_curve, roc_auc_score, mean_squared_error\n",
    "\n",
    "# import tree for visualization of the output trees\n",
    "from xgboost import plot_tree\n",
    "from sklearn.tree import export_graphviz\n",
    "from pydotplus import graph_from_dot_data\n",
    "from IPython.display import Image\n",
    "\n",
    "# to install graphviz - required for xgboost plot_tree\n",
    "# !pip install graphviz \n"
   ]
  },
  {
   "cell_type": "code",
   "execution_count": 2,
   "metadata": {},
   "outputs": [],
   "source": [
    "# extra step for graphviz to be found\n",
    "# website reference: https://stackoverflow.com/questions/52472611/how-do-i-make-sure-the-graphviz-executables-are-on-my-systems-path\n",
    "# please change to your own directory where graphviz is installed\n",
    "import os\n",
    "os.environ['PATH'] += os.pathsep + 'C:/Users/robby/anaconda3/Library/bin/graphviz/'"
   ]
  },
  {
   "cell_type": "markdown",
   "metadata": {},
   "source": [
    "### 1.1. Load the modified train data\n",
    "[top](#Contents)"
   ]
  },
  {
   "cell_type": "markdown",
   "metadata": {},
   "source": [
    "The train file was cleaned and combined with the weather information in the previous notebook, and saved as `train_final.csv`."
   ]
  },
  {
   "cell_type": "code",
   "execution_count": 3,
   "metadata": {},
   "outputs": [],
   "source": [
    "# read in train_final dataset\n",
    "train = pd.read_csv('../datasets/train_final.csv')"
   ]
  },
  {
   "cell_type": "code",
   "execution_count": 4,
   "metadata": {},
   "outputs": [
    {
     "data": {
      "text/html": [
       "<div>\n",
       "<style scoped>\n",
       "    .dataframe tbody tr th:only-of-type {\n",
       "        vertical-align: middle;\n",
       "    }\n",
       "\n",
       "    .dataframe tbody tr th {\n",
       "        vertical-align: top;\n",
       "    }\n",
       "\n",
       "    .dataframe thead th {\n",
       "        text-align: right;\n",
       "    }\n",
       "</style>\n",
       "<table border=\"1\" class=\"dataframe\">\n",
       "  <thead>\n",
       "    <tr style=\"text-align: right;\">\n",
       "      <th></th>\n",
       "      <th>date</th>\n",
       "      <th>maxtemp</th>\n",
       "      <th>mintemp</th>\n",
       "      <th>avgtemp</th>\n",
       "      <th>dewpoint</th>\n",
       "      <th>wetbulb</th>\n",
       "      <th>stnpressure</th>\n",
       "      <th>avgspeed</th>\n",
       "      <th>daylength</th>\n",
       "      <th>precipitation</th>\n",
       "      <th>maxtemp_roll_7</th>\n",
       "      <th>mintemp_roll_7</th>\n",
       "      <th>avgtemp_roll_7</th>\n",
       "      <th>dewpoint_roll_7</th>\n",
       "      <th>wetbulb_roll_7</th>\n",
       "      <th>stnpressure_roll_7</th>\n",
       "      <th>avgspeed_roll_7</th>\n",
       "      <th>daylength_roll_7</th>\n",
       "      <th>precipitation_roll_7</th>\n",
       "      <th>maxtemp_roll_14</th>\n",
       "      <th>mintemp_roll_14</th>\n",
       "      <th>avgtemp_roll_14</th>\n",
       "      <th>dewpoint_roll_14</th>\n",
       "      <th>wetbulb_roll_14</th>\n",
       "      <th>stnpressure_roll_14</th>\n",
       "      <th>avgspeed_roll_14</th>\n",
       "      <th>daylength_roll_14</th>\n",
       "      <th>precipitation_roll_14</th>\n",
       "      <th>nummosquitos</th>\n",
       "      <th>wnvpresent</th>\n",
       "      <th>species_wnv_species</th>\n",
       "      <th>trap_wnv_traps</th>\n",
       "      <th>month_peak</th>\n",
       "    </tr>\n",
       "  </thead>\n",
       "  <tbody>\n",
       "    <tr>\n",
       "      <th>0</th>\n",
       "      <td>2007-05-29</td>\n",
       "      <td>88</td>\n",
       "      <td>60</td>\n",
       "      <td>75.5</td>\n",
       "      <td>58.5</td>\n",
       "      <td>65.5</td>\n",
       "      <td>29.415</td>\n",
       "      <td>6.95</td>\n",
       "      <td>896.0</td>\n",
       "      <td>0.0</td>\n",
       "      <td>79.857143</td>\n",
       "      <td>56.428571</td>\n",
       "      <td>68.714286</td>\n",
       "      <td>50.928571</td>\n",
       "      <td>58.857143</td>\n",
       "      <td>29.435714</td>\n",
       "      <td>9.328571</td>\n",
       "      <td>892.142857</td>\n",
       "      <td>0.109714</td>\n",
       "      <td>76.714286</td>\n",
       "      <td>51.571429</td>\n",
       "      <td>64.678571</td>\n",
       "      <td>45.357143</td>\n",
       "      <td>54.357143</td>\n",
       "      <td>29.434286</td>\n",
       "      <td>9.682143</td>\n",
       "      <td>886.071429</td>\n",
       "      <td>0.068786</td>\n",
       "      <td>1.0</td>\n",
       "      <td>0.0</td>\n",
       "      <td>1</td>\n",
       "      <td>1</td>\n",
       "      <td>0</td>\n",
       "    </tr>\n",
       "    <tr>\n",
       "      <th>1</th>\n",
       "      <td>2007-05-29</td>\n",
       "      <td>88</td>\n",
       "      <td>60</td>\n",
       "      <td>75.5</td>\n",
       "      <td>58.5</td>\n",
       "      <td>65.5</td>\n",
       "      <td>29.415</td>\n",
       "      <td>6.95</td>\n",
       "      <td>896.0</td>\n",
       "      <td>0.0</td>\n",
       "      <td>79.857143</td>\n",
       "      <td>56.428571</td>\n",
       "      <td>68.714286</td>\n",
       "      <td>50.928571</td>\n",
       "      <td>58.857143</td>\n",
       "      <td>29.435714</td>\n",
       "      <td>9.328571</td>\n",
       "      <td>892.142857</td>\n",
       "      <td>0.109714</td>\n",
       "      <td>76.714286</td>\n",
       "      <td>51.571429</td>\n",
       "      <td>64.678571</td>\n",
       "      <td>45.357143</td>\n",
       "      <td>54.357143</td>\n",
       "      <td>29.434286</td>\n",
       "      <td>9.682143</td>\n",
       "      <td>886.071429</td>\n",
       "      <td>0.068786</td>\n",
       "      <td>1.0</td>\n",
       "      <td>0.0</td>\n",
       "      <td>1</td>\n",
       "      <td>1</td>\n",
       "      <td>0</td>\n",
       "    </tr>\n",
       "    <tr>\n",
       "      <th>2</th>\n",
       "      <td>2007-05-29</td>\n",
       "      <td>88</td>\n",
       "      <td>60</td>\n",
       "      <td>75.5</td>\n",
       "      <td>58.5</td>\n",
       "      <td>65.5</td>\n",
       "      <td>29.415</td>\n",
       "      <td>6.95</td>\n",
       "      <td>896.0</td>\n",
       "      <td>0.0</td>\n",
       "      <td>79.857143</td>\n",
       "      <td>56.428571</td>\n",
       "      <td>68.714286</td>\n",
       "      <td>50.928571</td>\n",
       "      <td>58.857143</td>\n",
       "      <td>29.435714</td>\n",
       "      <td>9.328571</td>\n",
       "      <td>892.142857</td>\n",
       "      <td>0.109714</td>\n",
       "      <td>76.714286</td>\n",
       "      <td>51.571429</td>\n",
       "      <td>64.678571</td>\n",
       "      <td>45.357143</td>\n",
       "      <td>54.357143</td>\n",
       "      <td>29.434286</td>\n",
       "      <td>9.682143</td>\n",
       "      <td>886.071429</td>\n",
       "      <td>0.068786</td>\n",
       "      <td>1.0</td>\n",
       "      <td>0.0</td>\n",
       "      <td>1</td>\n",
       "      <td>0</td>\n",
       "      <td>0</td>\n",
       "    </tr>\n",
       "    <tr>\n",
       "      <th>3</th>\n",
       "      <td>2007-05-29</td>\n",
       "      <td>88</td>\n",
       "      <td>60</td>\n",
       "      <td>75.5</td>\n",
       "      <td>58.5</td>\n",
       "      <td>65.5</td>\n",
       "      <td>29.415</td>\n",
       "      <td>6.95</td>\n",
       "      <td>896.0</td>\n",
       "      <td>0.0</td>\n",
       "      <td>79.857143</td>\n",
       "      <td>56.428571</td>\n",
       "      <td>68.714286</td>\n",
       "      <td>50.928571</td>\n",
       "      <td>58.857143</td>\n",
       "      <td>29.435714</td>\n",
       "      <td>9.328571</td>\n",
       "      <td>892.142857</td>\n",
       "      <td>0.109714</td>\n",
       "      <td>76.714286</td>\n",
       "      <td>51.571429</td>\n",
       "      <td>64.678571</td>\n",
       "      <td>45.357143</td>\n",
       "      <td>54.357143</td>\n",
       "      <td>29.434286</td>\n",
       "      <td>9.682143</td>\n",
       "      <td>886.071429</td>\n",
       "      <td>0.068786</td>\n",
       "      <td>1.0</td>\n",
       "      <td>0.0</td>\n",
       "      <td>1</td>\n",
       "      <td>1</td>\n",
       "      <td>0</td>\n",
       "    </tr>\n",
       "    <tr>\n",
       "      <th>4</th>\n",
       "      <td>2007-05-29</td>\n",
       "      <td>88</td>\n",
       "      <td>60</td>\n",
       "      <td>75.5</td>\n",
       "      <td>58.5</td>\n",
       "      <td>65.5</td>\n",
       "      <td>29.415</td>\n",
       "      <td>6.95</td>\n",
       "      <td>896.0</td>\n",
       "      <td>0.0</td>\n",
       "      <td>79.857143</td>\n",
       "      <td>56.428571</td>\n",
       "      <td>68.714286</td>\n",
       "      <td>50.928571</td>\n",
       "      <td>58.857143</td>\n",
       "      <td>29.435714</td>\n",
       "      <td>9.328571</td>\n",
       "      <td>892.142857</td>\n",
       "      <td>0.109714</td>\n",
       "      <td>76.714286</td>\n",
       "      <td>51.571429</td>\n",
       "      <td>64.678571</td>\n",
       "      <td>45.357143</td>\n",
       "      <td>54.357143</td>\n",
       "      <td>29.434286</td>\n",
       "      <td>9.682143</td>\n",
       "      <td>886.071429</td>\n",
       "      <td>0.068786</td>\n",
       "      <td>4.0</td>\n",
       "      <td>0.0</td>\n",
       "      <td>1</td>\n",
       "      <td>1</td>\n",
       "      <td>0</td>\n",
       "    </tr>\n",
       "    <tr>\n",
       "      <th>...</th>\n",
       "      <td>...</td>\n",
       "      <td>...</td>\n",
       "      <td>...</td>\n",
       "      <td>...</td>\n",
       "      <td>...</td>\n",
       "      <td>...</td>\n",
       "      <td>...</td>\n",
       "      <td>...</td>\n",
       "      <td>...</td>\n",
       "      <td>...</td>\n",
       "      <td>...</td>\n",
       "      <td>...</td>\n",
       "      <td>...</td>\n",
       "      <td>...</td>\n",
       "      <td>...</td>\n",
       "      <td>...</td>\n",
       "      <td>...</td>\n",
       "      <td>...</td>\n",
       "      <td>...</td>\n",
       "      <td>...</td>\n",
       "      <td>...</td>\n",
       "      <td>...</td>\n",
       "      <td>...</td>\n",
       "      <td>...</td>\n",
       "      <td>...</td>\n",
       "      <td>...</td>\n",
       "      <td>...</td>\n",
       "      <td>...</td>\n",
       "      <td>...</td>\n",
       "      <td>...</td>\n",
       "      <td>...</td>\n",
       "      <td>...</td>\n",
       "      <td>...</td>\n",
       "    </tr>\n",
       "    <tr>\n",
       "      <th>8183</th>\n",
       "      <td>2013-09-26</td>\n",
       "      <td>75</td>\n",
       "      <td>50</td>\n",
       "      <td>64.0</td>\n",
       "      <td>52.0</td>\n",
       "      <td>58.0</td>\n",
       "      <td>29.370</td>\n",
       "      <td>4.40</td>\n",
       "      <td>719.0</td>\n",
       "      <td>0.0</td>\n",
       "      <td>73.571429</td>\n",
       "      <td>50.571429</td>\n",
       "      <td>61.357143</td>\n",
       "      <td>50.142857</td>\n",
       "      <td>55.428571</td>\n",
       "      <td>29.277857</td>\n",
       "      <td>7.607143</td>\n",
       "      <td>727.571429</td>\n",
       "      <td>0.002071</td>\n",
       "      <td>72.642857</td>\n",
       "      <td>52.714286</td>\n",
       "      <td>62.785714</td>\n",
       "      <td>50.892857</td>\n",
       "      <td>56.285714</td>\n",
       "      <td>29.341429</td>\n",
       "      <td>8.296429</td>\n",
       "      <td>737.928571</td>\n",
       "      <td>0.101500</td>\n",
       "      <td>1.0</td>\n",
       "      <td>0.0</td>\n",
       "      <td>1</td>\n",
       "      <td>1</td>\n",
       "      <td>1</td>\n",
       "    </tr>\n",
       "    <tr>\n",
       "      <th>8184</th>\n",
       "      <td>2013-09-26</td>\n",
       "      <td>75</td>\n",
       "      <td>50</td>\n",
       "      <td>64.0</td>\n",
       "      <td>52.0</td>\n",
       "      <td>58.0</td>\n",
       "      <td>29.370</td>\n",
       "      <td>4.40</td>\n",
       "      <td>719.0</td>\n",
       "      <td>0.0</td>\n",
       "      <td>73.571429</td>\n",
       "      <td>50.571429</td>\n",
       "      <td>61.357143</td>\n",
       "      <td>50.142857</td>\n",
       "      <td>55.428571</td>\n",
       "      <td>29.277857</td>\n",
       "      <td>7.607143</td>\n",
       "      <td>727.571429</td>\n",
       "      <td>0.002071</td>\n",
       "      <td>72.642857</td>\n",
       "      <td>52.714286</td>\n",
       "      <td>62.785714</td>\n",
       "      <td>50.892857</td>\n",
       "      <td>56.285714</td>\n",
       "      <td>29.341429</td>\n",
       "      <td>8.296429</td>\n",
       "      <td>737.928571</td>\n",
       "      <td>0.101500</td>\n",
       "      <td>5.0</td>\n",
       "      <td>0.0</td>\n",
       "      <td>1</td>\n",
       "      <td>1</td>\n",
       "      <td>1</td>\n",
       "    </tr>\n",
       "    <tr>\n",
       "      <th>8185</th>\n",
       "      <td>2013-09-26</td>\n",
       "      <td>75</td>\n",
       "      <td>50</td>\n",
       "      <td>64.0</td>\n",
       "      <td>52.0</td>\n",
       "      <td>58.0</td>\n",
       "      <td>29.370</td>\n",
       "      <td>4.40</td>\n",
       "      <td>719.0</td>\n",
       "      <td>0.0</td>\n",
       "      <td>73.571429</td>\n",
       "      <td>50.571429</td>\n",
       "      <td>61.357143</td>\n",
       "      <td>50.142857</td>\n",
       "      <td>55.428571</td>\n",
       "      <td>29.277857</td>\n",
       "      <td>7.607143</td>\n",
       "      <td>727.571429</td>\n",
       "      <td>0.002071</td>\n",
       "      <td>72.642857</td>\n",
       "      <td>52.714286</td>\n",
       "      <td>62.785714</td>\n",
       "      <td>50.892857</td>\n",
       "      <td>56.285714</td>\n",
       "      <td>29.341429</td>\n",
       "      <td>8.296429</td>\n",
       "      <td>737.928571</td>\n",
       "      <td>0.101500</td>\n",
       "      <td>1.0</td>\n",
       "      <td>0.0</td>\n",
       "      <td>1</td>\n",
       "      <td>1</td>\n",
       "      <td>1</td>\n",
       "    </tr>\n",
       "    <tr>\n",
       "      <th>8186</th>\n",
       "      <td>2013-09-26</td>\n",
       "      <td>75</td>\n",
       "      <td>50</td>\n",
       "      <td>64.0</td>\n",
       "      <td>52.0</td>\n",
       "      <td>58.0</td>\n",
       "      <td>29.370</td>\n",
       "      <td>4.40</td>\n",
       "      <td>719.0</td>\n",
       "      <td>0.0</td>\n",
       "      <td>73.571429</td>\n",
       "      <td>50.571429</td>\n",
       "      <td>61.357143</td>\n",
       "      <td>50.142857</td>\n",
       "      <td>55.428571</td>\n",
       "      <td>29.277857</td>\n",
       "      <td>7.607143</td>\n",
       "      <td>727.571429</td>\n",
       "      <td>0.002071</td>\n",
       "      <td>72.642857</td>\n",
       "      <td>52.714286</td>\n",
       "      <td>62.785714</td>\n",
       "      <td>50.892857</td>\n",
       "      <td>56.285714</td>\n",
       "      <td>29.341429</td>\n",
       "      <td>8.296429</td>\n",
       "      <td>737.928571</td>\n",
       "      <td>0.101500</td>\n",
       "      <td>37.0</td>\n",
       "      <td>0.0</td>\n",
       "      <td>1</td>\n",
       "      <td>1</td>\n",
       "      <td>1</td>\n",
       "    </tr>\n",
       "    <tr>\n",
       "      <th>8187</th>\n",
       "      <td>2013-09-26</td>\n",
       "      <td>75</td>\n",
       "      <td>50</td>\n",
       "      <td>64.0</td>\n",
       "      <td>52.0</td>\n",
       "      <td>58.0</td>\n",
       "      <td>29.370</td>\n",
       "      <td>4.40</td>\n",
       "      <td>719.0</td>\n",
       "      <td>0.0</td>\n",
       "      <td>73.571429</td>\n",
       "      <td>50.571429</td>\n",
       "      <td>61.357143</td>\n",
       "      <td>50.142857</td>\n",
       "      <td>55.428571</td>\n",
       "      <td>29.277857</td>\n",
       "      <td>7.607143</td>\n",
       "      <td>727.571429</td>\n",
       "      <td>0.002071</td>\n",
       "      <td>72.642857</td>\n",
       "      <td>52.714286</td>\n",
       "      <td>62.785714</td>\n",
       "      <td>50.892857</td>\n",
       "      <td>56.285714</td>\n",
       "      <td>29.341429</td>\n",
       "      <td>8.296429</td>\n",
       "      <td>737.928571</td>\n",
       "      <td>0.101500</td>\n",
       "      <td>43.0</td>\n",
       "      <td>1.0</td>\n",
       "      <td>1</td>\n",
       "      <td>1</td>\n",
       "      <td>1</td>\n",
       "    </tr>\n",
       "  </tbody>\n",
       "</table>\n",
       "<p>8188 rows × 33 columns</p>\n",
       "</div>"
      ],
      "text/plain": [
       "            date  maxtemp  mintemp  avgtemp  dewpoint  wetbulb  stnpressure  \\\n",
       "0     2007-05-29       88       60     75.5      58.5     65.5       29.415   \n",
       "1     2007-05-29       88       60     75.5      58.5     65.5       29.415   \n",
       "2     2007-05-29       88       60     75.5      58.5     65.5       29.415   \n",
       "3     2007-05-29       88       60     75.5      58.5     65.5       29.415   \n",
       "4     2007-05-29       88       60     75.5      58.5     65.5       29.415   \n",
       "...          ...      ...      ...      ...       ...      ...          ...   \n",
       "8183  2013-09-26       75       50     64.0      52.0     58.0       29.370   \n",
       "8184  2013-09-26       75       50     64.0      52.0     58.0       29.370   \n",
       "8185  2013-09-26       75       50     64.0      52.0     58.0       29.370   \n",
       "8186  2013-09-26       75       50     64.0      52.0     58.0       29.370   \n",
       "8187  2013-09-26       75       50     64.0      52.0     58.0       29.370   \n",
       "\n",
       "      avgspeed  daylength  precipitation  maxtemp_roll_7  mintemp_roll_7  \\\n",
       "0         6.95      896.0            0.0       79.857143       56.428571   \n",
       "1         6.95      896.0            0.0       79.857143       56.428571   \n",
       "2         6.95      896.0            0.0       79.857143       56.428571   \n",
       "3         6.95      896.0            0.0       79.857143       56.428571   \n",
       "4         6.95      896.0            0.0       79.857143       56.428571   \n",
       "...        ...        ...            ...             ...             ...   \n",
       "8183      4.40      719.0            0.0       73.571429       50.571429   \n",
       "8184      4.40      719.0            0.0       73.571429       50.571429   \n",
       "8185      4.40      719.0            0.0       73.571429       50.571429   \n",
       "8186      4.40      719.0            0.0       73.571429       50.571429   \n",
       "8187      4.40      719.0            0.0       73.571429       50.571429   \n",
       "\n",
       "      avgtemp_roll_7  dewpoint_roll_7  wetbulb_roll_7  stnpressure_roll_7  \\\n",
       "0          68.714286        50.928571       58.857143           29.435714   \n",
       "1          68.714286        50.928571       58.857143           29.435714   \n",
       "2          68.714286        50.928571       58.857143           29.435714   \n",
       "3          68.714286        50.928571       58.857143           29.435714   \n",
       "4          68.714286        50.928571       58.857143           29.435714   \n",
       "...              ...              ...             ...                 ...   \n",
       "8183       61.357143        50.142857       55.428571           29.277857   \n",
       "8184       61.357143        50.142857       55.428571           29.277857   \n",
       "8185       61.357143        50.142857       55.428571           29.277857   \n",
       "8186       61.357143        50.142857       55.428571           29.277857   \n",
       "8187       61.357143        50.142857       55.428571           29.277857   \n",
       "\n",
       "      avgspeed_roll_7  daylength_roll_7  precipitation_roll_7  \\\n",
       "0            9.328571        892.142857              0.109714   \n",
       "1            9.328571        892.142857              0.109714   \n",
       "2            9.328571        892.142857              0.109714   \n",
       "3            9.328571        892.142857              0.109714   \n",
       "4            9.328571        892.142857              0.109714   \n",
       "...               ...               ...                   ...   \n",
       "8183         7.607143        727.571429              0.002071   \n",
       "8184         7.607143        727.571429              0.002071   \n",
       "8185         7.607143        727.571429              0.002071   \n",
       "8186         7.607143        727.571429              0.002071   \n",
       "8187         7.607143        727.571429              0.002071   \n",
       "\n",
       "      maxtemp_roll_14  mintemp_roll_14  avgtemp_roll_14  dewpoint_roll_14  \\\n",
       "0           76.714286        51.571429        64.678571         45.357143   \n",
       "1           76.714286        51.571429        64.678571         45.357143   \n",
       "2           76.714286        51.571429        64.678571         45.357143   \n",
       "3           76.714286        51.571429        64.678571         45.357143   \n",
       "4           76.714286        51.571429        64.678571         45.357143   \n",
       "...               ...              ...              ...               ...   \n",
       "8183        72.642857        52.714286        62.785714         50.892857   \n",
       "8184        72.642857        52.714286        62.785714         50.892857   \n",
       "8185        72.642857        52.714286        62.785714         50.892857   \n",
       "8186        72.642857        52.714286        62.785714         50.892857   \n",
       "8187        72.642857        52.714286        62.785714         50.892857   \n",
       "\n",
       "      wetbulb_roll_14  stnpressure_roll_14  avgspeed_roll_14  \\\n",
       "0           54.357143            29.434286          9.682143   \n",
       "1           54.357143            29.434286          9.682143   \n",
       "2           54.357143            29.434286          9.682143   \n",
       "3           54.357143            29.434286          9.682143   \n",
       "4           54.357143            29.434286          9.682143   \n",
       "...               ...                  ...               ...   \n",
       "8183        56.285714            29.341429          8.296429   \n",
       "8184        56.285714            29.341429          8.296429   \n",
       "8185        56.285714            29.341429          8.296429   \n",
       "8186        56.285714            29.341429          8.296429   \n",
       "8187        56.285714            29.341429          8.296429   \n",
       "\n",
       "      daylength_roll_14  precipitation_roll_14  nummosquitos  wnvpresent  \\\n",
       "0            886.071429               0.068786           1.0         0.0   \n",
       "1            886.071429               0.068786           1.0         0.0   \n",
       "2            886.071429               0.068786           1.0         0.0   \n",
       "3            886.071429               0.068786           1.0         0.0   \n",
       "4            886.071429               0.068786           4.0         0.0   \n",
       "...                 ...                    ...           ...         ...   \n",
       "8183         737.928571               0.101500           1.0         0.0   \n",
       "8184         737.928571               0.101500           5.0         0.0   \n",
       "8185         737.928571               0.101500           1.0         0.0   \n",
       "8186         737.928571               0.101500          37.0         0.0   \n",
       "8187         737.928571               0.101500          43.0         1.0   \n",
       "\n",
       "      species_wnv_species  trap_wnv_traps  month_peak  \n",
       "0                       1               1           0  \n",
       "1                       1               1           0  \n",
       "2                       1               0           0  \n",
       "3                       1               1           0  \n",
       "4                       1               1           0  \n",
       "...                   ...             ...         ...  \n",
       "8183                    1               1           1  \n",
       "8184                    1               1           1  \n",
       "8185                    1               1           1  \n",
       "8186                    1               1           1  \n",
       "8187                    1               1           1  \n",
       "\n",
       "[8188 rows x 33 columns]"
      ]
     },
     "execution_count": 4,
     "metadata": {},
     "output_type": "execute_result"
    }
   ],
   "source": [
    "train"
   ]
  },
  {
   "cell_type": "code",
   "execution_count": 5,
   "metadata": {},
   "outputs": [],
   "source": [
    "# define our X and target variables\n",
    "X = train.drop(['date', 'wnvpresent', 'nummosquitos'],\n",
    "               axis=1)\n",
    "y = train['wnvpresent']"
   ]
  },
  {
   "cell_type": "code",
   "execution_count": 6,
   "metadata": {},
   "outputs": [],
   "source": [
    "# read in test_final and prep the dataset\n",
    "test_df = pd.read_csv('../datasets/test_final.csv')"
   ]
  },
  {
   "cell_type": "code",
   "execution_count": 7,
   "metadata": {},
   "outputs": [],
   "source": [
    "id_series = test_df['id'] \n",
    "\n",
    "test_df.drop(['Date', 'id'], axis=1, inplace=True)"
   ]
  },
  {
   "cell_type": "markdown",
   "metadata": {},
   "source": [
    "**Baseline Accuracy**"
   ]
  },
  {
   "cell_type": "code",
   "execution_count": 8,
   "metadata": {},
   "outputs": [
    {
     "data": {
      "text/plain": [
       "0.0    0.949927\n",
       "1.0    0.050073\n",
       "Name: wnvpresent, dtype: float64"
      ]
     },
     "execution_count": 8,
     "metadata": {},
     "output_type": "execute_result"
    }
   ],
   "source": [
    "y.value_counts(normalize=True)"
   ]
  },
  {
   "cell_type": "markdown",
   "metadata": {},
   "source": [
    "It is clear from here that wnvpresent (positive WNV occurrence, or `1`) is the minority class (approx. 5%), and using the typical accuracy metric would not be desirable. For instance, we could simply predict that all traps have no WNV occurrences (`0`), which will naturally give us a 95% accuracy without doing any predictive analytics. Such a model would not be useful in predicting which of the traps have a high possibility of positive WNV occurence.<br>\n",
    "\n",
    "In cases of such an imbalanced distribution of the target variable, **AUC-ROC** (Area Under Curve - Receiver Operating Characteristic) scoring is preferred. The ROC curve summarizes the trade-off between the True Positive Rate (TPR) and False Positive Rate (FPR) for a classification model using different probability thresholds, and the AUC represents the degree or measure of separability. Essentially, it measures how much the model is capable of distinguishing between classes. Hence, the higher the AUC, the model is better at predicting 0s as 0s and 1s as 1s. In our case, a higher AUC-ROC score will be better at predicting and discriminating wnv rates in traps.\n",
    "\n",
    "A second classification metric we would be focusing on is the **recall** score, which is calculated as the number of true positives divided by the total number of true positives and false negatives. Given the potentially high costs to human health, it is desirable to reduce the number of false negatives as we would want to minimize instances where we miss out on detecting WNV positive cases.\n",
    "<br>"
   ]
  },
  {
   "cell_type": "markdown",
   "metadata": {},
   "source": [
    "**Train Validation Split**"
   ]
  },
  {
   "cell_type": "code",
   "execution_count": 9,
   "metadata": {},
   "outputs": [],
   "source": [
    "X_train, X_val, y_train, y_val = train_test_split(X, y, test_size = 0.3, stratify=y, random_state=42)"
   ]
  },
  {
   "cell_type": "markdown",
   "metadata": {},
   "source": [
    "## 2. Model Prep using GridSearch with scaling and SMOTE (Gradient Boost, Adaboost and Extreme Gradient Boost)\n",
    "[top](#Contents)"
   ]
  },
  {
   "cell_type": "markdown",
   "metadata": {},
   "source": [
    "In our GridSearch across several models, we found that the boosting models, in particular - gradient boost, adaboost and extreme gradient boost models - consistently gave better scores (around AUC = 0.84), compared to other classification models such as `LogisticRegression` or `MultinomialBayes`. Hence, we made the decision to concentrate on the boosting models."
   ]
  },
  {
   "cell_type": "code",
   "execution_count": 10,
   "metadata": {},
   "outputs": [],
   "source": [
    "# Focusing just on boosting models\n",
    "\n",
    "pipe_1 = Pipeline([\n",
    "    ('scale', StandardScaler()),\n",
    "    ('sampling', SMOTE(random_state=42)),\n",
    "    ('gboost', GradientBoostingClassifier(random_state=42))\n",
    "])\n",
    "\n",
    "pipe_2 = Pipeline([\n",
    "    ('scale', StandardScaler()),\n",
    "    ('sampling', SMOTE(random_state=42)),\n",
    "    ('ada', AdaBoostClassifier(random_state=42))\n",
    "])\n",
    "\n",
    "pipe_3 = Pipeline([\n",
    "    ('scale', StandardScaler()),\n",
    "    ('sampling', SMOTE(random_state=42)),\n",
    "    ('xgb', XGBClassifier(random_state=42))\n",
    "])\n"
   ]
  },
  {
   "cell_type": "code",
   "execution_count": 11,
   "metadata": {},
   "outputs": [],
   "source": [
    "# setting the parameters for each pipe\n",
    "\n",
    "pipe_1_params = {\n",
    "    'sampling__sampling_strategy': [0.9], #0.9\n",
    "    'sampling__k_neighbors': [10], #10\n",
    "    'gboost__loss': ['exponential'],\n",
    "    'gboost__learning_rate': [0.2], # 0.2\n",
    "    'gboost__n_estimators': [120], #120\n",
    "    'gboost__max_depth': [4] #4\n",
    "}\n",
    "\n",
    "pipe_2_params = {\n",
    "    'sampling__sampling_strategy': [0.65, 0.8], #0.65\n",
    "    'sampling__k_neighbors': [7, 9, 11, 13],  #9\n",
    "    'ada__learning_rate': [0.65, 0.7], #0.65\n",
    "    'ada__n_estimators': [125, 150], #150 \n",
    "}\n",
    "\n",
    "pipe_3_params = {\n",
    "    'sampling__sampling_strategy': [0.85], #0.85\n",
    "    'sampling__k_neighbors': [4], #4\n",
    "    'xgb__eval_metric': ['auc'],\n",
    "    'xgb__learning_rate': [0.12, 0.14, 0.2], #0.14\n",
    "    'xgb__min_child_weight': [3], #3\n",
    "    'xgb__max_depth': [4], #4\n",
    "    'xgb__max_delta_step': [8], #8\n",
    "    'xgb__n_estimators': [200, 250],  #200\n",
    "    'xgb__colsample_bytree' : [0.65], #0.65\n",
    "    'xgb__subsample' : [0.6], #0.6\n",
    "    'xgb__reg_alpha' : [0.09], #0.09\n",
    "    'xgb__reg_lambda' : [3], #3\n",
    "    'xgb__gamma' : [0.04, 0.05], #0.04\n",
    "}\n"
   ]
  },
  {
   "cell_type": "code",
   "execution_count": 12,
   "metadata": {},
   "outputs": [],
   "source": [
    "# setting up the grid searches\n",
    "\n",
    "gs_1 = GridSearchCV(estimator = pipe_1,\n",
    "                    param_grid = pipe_1_params,\n",
    "                    cv = 5,\n",
    "                    scoring='roc_auc',\n",
    "                    verbose = 1,\n",
    "                    n_jobs=-1)\n",
    "\n",
    "gs_2 = GridSearchCV(estimator = pipe_2,\n",
    "                    param_grid = pipe_2_params,\n",
    "                    cv = 5,\n",
    "                    scoring='roc_auc',\n",
    "                    verbose = 1,\n",
    "                    n_jobs=-1)\n",
    "\n",
    "gs_3 = GridSearchCV(estimator = pipe_3,\n",
    "                    param_grid = pipe_3_params,\n",
    "                    cv = 5,\n",
    "                    scoring='roc_auc',\n",
    "                    verbose = 1,\n",
    "                    n_jobs=-1)\n",
    "\n"
   ]
  },
  {
   "cell_type": "code",
   "execution_count": 13,
   "metadata": {},
   "outputs": [],
   "source": [
    "grids = [gs_1, gs_2, gs_3]\n",
    "\n",
    "grid_dict = {0: 'Gradient Boosting', 1: 'Ada Boosting', \n",
    "             2: 'Extreme Gradient Boost'}"
   ]
  },
  {
   "cell_type": "code",
   "execution_count": null,
   "metadata": {
    "scrolled": false
   },
   "outputs": [
    {
     "name": "stdout",
     "output_type": "stream",
     "text": [
      "---------------Starting GridSearch--------------------------------\n",
      "\n",
      "Gridsearch on Estimator: Gradient Boosting\n",
      "Fitting 5 folds for each of 1 candidates, totalling 5 fits\n"
     ]
    },
    {
     "name": "stderr",
     "output_type": "stream",
     "text": [
      "[Parallel(n_jobs=-1)]: Using backend LokyBackend with 8 concurrent workers.\n",
      "[Parallel(n_jobs=-1)]: Done   2 out of   5 | elapsed:   10.6s remaining:   16.0s\n",
      "[Parallel(n_jobs=-1)]: Done   5 out of   5 | elapsed:   10.8s finished\n"
     ]
    },
    {
     "name": "stdout",
     "output_type": "stream",
     "text": [
      "Best params: {'gboost__learning_rate': 0.2, 'gboost__loss': 'exponential', 'gboost__max_depth': 4, 'gboost__n_estimators': 120, 'sampling__k_neighbors': 10, 'sampling__sampling_strategy': 0.9}\n",
      "Best GridSearchCV AUC: 0.839\n",
      "Training AUC on best params: 0.871\n",
      "Validation AUC on best params: 0.861\n",
      "\n",
      "Confusion Matrix for: Gradient Boosting\n",
      "[[1916  418]\n",
      " [  34   89]]\n",
      "\n",
      "Scoring Report for: Gradient Boosting\n",
      "              precision    recall  f1-score   support\n",
      "\n",
      "         0.0       0.98      0.82      0.89      2334\n",
      "         1.0       0.18      0.72      0.28       123\n",
      "\n",
      "    accuracy                           0.82      2457\n",
      "   macro avg       0.58      0.77      0.59      2457\n",
      "weighted avg       0.94      0.82      0.86      2457\n",
      "\n",
      "---------------Starting GridSearch--------------------------------\n",
      "\n",
      "Gridsearch on Estimator: Ada Boosting\n",
      "Fitting 5 folds for each of 32 candidates, totalling 160 fits\n"
     ]
    },
    {
     "name": "stderr",
     "output_type": "stream",
     "text": [
      "[Parallel(n_jobs=-1)]: Using backend LokyBackend with 8 concurrent workers.\n",
      "[Parallel(n_jobs=-1)]: Done  34 tasks      | elapsed:   25.3s\n"
     ]
    }
   ],
   "source": [
    "for idx, gs in enumerate(grids):\n",
    "    print('---------------Starting GridSearch--------------------------------')\n",
    "    print(f'\\nGridsearch on Estimator: {grid_dict[idx]}')\n",
    "    \n",
    "    # Fit grid search\n",
    "    gs.fit(X_train, y_train)\n",
    "    \n",
    "    # showing best params\n",
    "    print(f'Best params: {gs.best_params_}')\n",
    "    \n",
    "    # Best training score\n",
    "    print(f'Best GridSearchCV AUC: {round(gs.best_score_, 3)}')\n",
    "    \n",
    "    model = gs.best_estimator_\n",
    "    \n",
    "    y_train_pred = model.predict_proba(X_train)[:,1]\n",
    "    y_val_pred = model.predict_proba(X_val)[:,1]\n",
    "    \n",
    "    \n",
    "    # Scoring on validation data with best params\n",
    "    print(f'Training AUC on best params: {round(roc_auc_score(y_train, y_train_pred), 3)}')\n",
    "    \n",
    "    print(f'Validation AUC on best params: {round(roc_auc_score(y_val, y_val_pred), 3)}')\n",
    "    \n",
    "    # Printing Confusion Matrix and Scoring reports\n",
    "    print()\n",
    "    print(f'Confusion Matrix for: {grid_dict[idx]}')\n",
    "    print(confusion_matrix(y_val, gs.predict(X_val)))\n",
    "    print()\n",
    "    print(f'Scoring Report for: {grid_dict[idx]}')\n",
    "    print(classification_report(y_val, gs.predict(X_val)))\n",
    "    "
   ]
  },
  {
   "cell_type": "markdown",
   "metadata": {},
   "source": [
    "### 2.1. Computing ROC curve\n",
    "[top](#Contents)"
   ]
  },
  {
   "cell_type": "markdown",
   "metadata": {},
   "source": [
    "We observe that our boosting models mostly have an AUC-ROC score of about 0.84 to 0.86. \n",
    "A plot of the ROC curves allows us to observe visually and compare their individual curves:"
   ]
  },
  {
   "cell_type": "code",
   "execution_count": null,
   "metadata": {},
   "outputs": [],
   "source": [
    "figure = plt.figure(figsize=(12,12))\n",
    "ax = plt.gca()\n",
    "Gboost_plot = plot_roc_curve(gs_1, X_val, y_val, name=grid_dict[0], ax=ax)\n",
    "Adaboost_plot = plot_roc_curve(gs_2, X_val, y_val, name=grid_dict[1], ax=ax)\n",
    "Xgb_plot = plot_roc_curve(gs_3, X_val, y_val, name=grid_dict[2], ax=ax)\n",
    "ax.plot(np.linspace(0, 1, 200),\n",
    "        np.linspace(0, 1, 200),\n",
    "        linestyle='--')\n",
    "plt.title('ROC Curve of GB / AdaBoost / Extreme GB Classifier Models', fontsize=18)\n",
    "plt.show()\n"
   ]
  },
  {
   "cell_type": "markdown",
   "metadata": {},
   "source": [
    "A ROC curve is constructed by plotting the true positive rate (TPR) against the false positive rate (FPR). The true positive rate is the proportion of observations that were correctly predicted to be positive out of all positive observations (TP/(TP + FN)). Similarly, the false positive rate is the proportion of observations that are incorrectly predicted to be positive out of all negative observations (FP/(TN + FP)). \n",
    "\n",
    "The ROC curve shows the trade-off between sensitivity (or TPR) and specificity (1 – FPR). Classifiers that give curves closer to the top-left corner indicate a better performance. As a baseline, a random classifier is expected to give points lying along the diagonal (FPR = TPR). The closer the curve comes to the 45-degree diagonal of the ROC space, the less accurate the test.\n",
    "\n",
    "From our chart, we see that the 3 models have very similar ROC curves, making it difficult to determine if one model is truly better than the others. Hence, we decided to use a voting classifier as our final production model, using these 3 models as inputs into the voting classifier. \n",
    "\n",
    "Before we proceed, let's examine the feature importances for each model:"
   ]
  },
  {
   "cell_type": "markdown",
   "metadata": {},
   "source": [
    "### 2.2. Examining Feature Importances\n",
    "[top](#Contents)"
   ]
  },
  {
   "cell_type": "code",
   "execution_count": null,
   "metadata": {},
   "outputs": [],
   "source": [
    "features = X.columns"
   ]
  },
  {
   "cell_type": "code",
   "execution_count": null,
   "metadata": {},
   "outputs": [],
   "source": [
    "# access the feature importances from the gridsearch\n",
    "feat_imp = gs_1.best_estimator_.named_steps['gboost'].feature_importances_\n",
    "# tag with feature name and sort from most important to least\n",
    "gb_feat_imp = pd.Series(feat_imp, features).sort_values(ascending=False)\n",
    "# getting the top 10 features\n",
    "gb_top10 = gb_feat_imp[:10]\n",
    "# plot top 10 features\n",
    "plt.figure(figsize=(8,8))\n",
    "gb_top10.plot(kind='barh', title='Gradient Boost Top 10 Feature Importances')\n",
    "plt.show();"
   ]
  },
  {
   "cell_type": "code",
   "execution_count": null,
   "metadata": {},
   "outputs": [],
   "source": [
    "# access the feature importances from the gridsearch\n",
    "feat_imp = gs_2.best_estimator_.named_steps['ada'].feature_importances_\n",
    "# tag with feature name and sort from most important to least\n",
    "ada_feat_imp = pd.Series(feat_imp, features).sort_values(ascending=False)\n",
    "# getting the top 10 features\n",
    "ada_top10 = ada_feat_imp[:10]\n",
    "# plot top 10 features\n",
    "plt.figure(figsize=(8,8))\n",
    "ada_top10.plot(kind='barh', title='Ada Boost Top 10 Feature Importances')\n",
    "plt.show();"
   ]
  },
  {
   "cell_type": "code",
   "execution_count": null,
   "metadata": {},
   "outputs": [],
   "source": [
    "# access the feature importances from the gridsearch\n",
    "feat_imp = gs_3.best_estimator_.named_steps['xgb'].feature_importances_\n",
    "# tag with feature name and sort from most important to least\n",
    "xgb_feat_imp = pd.Series(feat_imp, features).sort_values(ascending=False)\n",
    "# getting the top 10 features\n",
    "xgb_top10 = xgb_feat_imp[:10]\n",
    "# plot top 10 features\n",
    "plt.figure(figsize=(8,8))\n",
    "xgb_top10.plot(kind='barh', title='Extreme Gradient Boost Top 10 Feature Importances')\n",
    "plt.show();"
   ]
  },
  {
   "cell_type": "markdown",
   "metadata": {},
   "source": [
    "From the above graphs indicating the top 10 feature importances for each model, we see that each model yielded a slightly different combination of features, although there are common features across the models. \n",
    "\n",
    "For example, in GradientBoost model, the peak months (Aug and Sep) were the most important given that we saw the highest wnv rates usually in August and September. The next was the trap feature, indicating which were the traps that historically had wnv rates previously. WNV Mosquito species were not featured in the top 10 which was surprising to us, instead 7-day and 14-day rolling weather data predominantly make up the rest of the top 10 features. Features like daylength (ranked 3rd) reflect how the model chose to split on daylength frequently in its decision trees.\n",
    "<br>\n",
    "\n",
    "On the other hand, our Adaboost model took more importance from the weather features with temperature type features - mintemp (1st), avgtemp (10th), and wind speed also had higher importance with 7-day avgspeed and avgspeed having the second and third most importance respectively in the model. This also made sense from the literature review we had conducted, which noted that mosquitoes tended not to be as active on days when winds were strong. It is worth noting that our peak month feature was only the 6th most important feature in the Adaboost model. \n",
    "<br>\n",
    "\n",
    "Lastly, for our Extreme GradientBoost model, the peak months (1st) and traps (2nd) were more important. Interestingly, wnv mosquito species (6th) was considered even though it was ignored by both the GradientBoost and AdaBoost models, a feature we had expected to be in the top 10 features on all 3 models. \n",
    "<br>\n",
    "\n",
    "It is worth noting that although there are a high number of similar features in the top 10 features, the magnitude (and ranking) of these features differ. Furthermore, Extreme GradientBoost model considered the wnv mosquito species to be one of the top features, which was missing from the other 2 models. Additionally, since their AUC-ROC are largely simliar, with no clear dominant model, we propose to proceed with building a voting classifier based on these 3 models for our final production model."
   ]
  },
  {
   "cell_type": "markdown",
   "metadata": {},
   "source": [
    "## 3. Misclassification Analysis\n",
    "[top](#Contents)"
   ]
  },
  {
   "cell_type": "markdown",
   "metadata": {},
   "source": [
    "We examine mis-classified traps for each of our models and try to have a broad overview of where the model fails in predicting traps with actual wnv rates (false negatives) since the cost of these are much higher than the false positives. \n",
    "<br>\n",
    "\n",
    "Our comparison method is to compare the characteristics of the set of all actual positives in the validation set with the characteristics of the predicted positives from each of our 3 models. Intuitively, since our 3 models are tree-based models, they should show very similar characteristics if the splits were done effectively. Additionally, we chose the interquartile range (first-quartile, median, third-quartile) as our comparative descriptive statistics to capture the middle 50% of the respective subset to show broadly how and where they differ and the areas where they are similar:"
   ]
  },
  {
   "cell_type": "code",
   "execution_count": null,
   "metadata": {},
   "outputs": [],
   "source": [
    "# extract the predictions and the probabilities from each model\n",
    "gb_predict = gs_1.best_estimator_.predict(X_val)\n",
    "gb_proba_wnv = gs_1.best_estimator_.predict_proba(X_val)[:,1]\n",
    "\n",
    "ab_predict = gs_2.best_estimator_.predict(X_val)\n",
    "ab_proba_wnv = gs_2.best_estimator_.predict_proba(X_val)[:,1]\n",
    "\n",
    "xgb_predict = gs_3.best_estimator_.predict(X_val)\n",
    "xgb_proba_wnv = gs_3.best_estimator_.predict_proba(X_val)[:,1]\n"
   ]
  },
  {
   "cell_type": "code",
   "execution_count": null,
   "metadata": {},
   "outputs": [],
   "source": [
    "# create a copy of X_val and insert the actual label (y_val), predictions and probabilities \n",
    "misclass_df = X_val.copy()\n",
    "# append predictions and probabilities from our 3 models\n",
    "misclass_df['wnv_present'] = y_val\n",
    "misclass_df['gb_wnv'] = gb_predict\n",
    "misclass_df['gb_probs'] = gb_proba_wnv\n",
    "misclass_df['ab_wnv'] = ab_predict\n",
    "misclass_df['ab_probs'] = ab_proba_wnv\n",
    "misclass_df['xgb_wnv'] = xgb_predict\n",
    "misclass_df['xgb_probs'] = xgb_proba_wnv"
   ]
  },
  {
   "cell_type": "code",
   "execution_count": null,
   "metadata": {},
   "outputs": [],
   "source": [
    "# specify df of wnv_present = 1 only (df of all actual positives)\n",
    "act_positives = misclass_df.loc[misclass_df['wnv_present']==1]\n",
    "# get the overall description of the actual positives set\n",
    "act_positives_des = act_positives.describe()\n",
    "# specify the median, 1st quartile and 3rd quartile of this df\n",
    "act_positives_median = pd.Series(act_positives_des.loc['50%'], name='act_post_median')\n",
    "act_positives_1stQrt = pd.Series(act_positives_des.loc['25%'], name='act_post_1stQrt')\n",
    "act_positives_3rdQrt = pd.Series(act_positives_des.loc['75%'], name='act_post_3rdQrt')"
   ]
  },
  {
   "cell_type": "code",
   "execution_count": null,
   "metadata": {
    "scrolled": true
   },
   "outputs": [],
   "source": [
    "compare_misclass = pd.concat([act_positives_1stQrt, act_positives_median], axis=1)\n",
    "compare_misclass['act_post_3rdQrt'] = act_positives_3rdQrt\n",
    "compare_misclass  # check"
   ]
  },
  {
   "cell_type": "code",
   "execution_count": null,
   "metadata": {},
   "outputs": [],
   "source": [
    "# create df of predicted positives for GradientBoost model\n",
    "gb_positives = misclass_df.loc[misclass_df['gb_wnv']==1]\n",
    "# get the overall description of the gb predicted positives set\n",
    "gb_positives_des = gb_positives.describe()\n",
    "\n",
    "# specify the median, 1st quartile and 3rd quartile of this df\n",
    "# append to compare_misclass df\n",
    "compare_misclass['gb_post_1stQrt'] = pd.Series(gb_positives_des.loc['25%'])\n",
    "compare_misclass['gb_post_median'] = pd.Series(gb_positives_des.loc['50%'])\n",
    "compare_misclass['gb_post_3rdQrt'] = pd.Series(gb_positives_des.loc['75%'])"
   ]
  },
  {
   "cell_type": "code",
   "execution_count": null,
   "metadata": {},
   "outputs": [],
   "source": [
    "# create df of predicted positives for AdaBoost model\n",
    "ab_positives = misclass_df.loc[misclass_df['ab_wnv']==1]\n",
    "# get the overall description of the gb predicted positives set\n",
    "ab_positives_des = ab_positives.describe()\n",
    "\n",
    "# specify the median, 1st quartile and 3rd quartile of this df\n",
    "# append to compare_misclass df\n",
    "compare_misclass['ab_post_1stQrt'] = pd.Series(ab_positives_des.loc['25%'])\n",
    "compare_misclass['ab_post_median'] = pd.Series(ab_positives_des.loc['50%'])\n",
    "compare_misclass['ab_post_3rdQrt'] = pd.Series(ab_positives_des.loc['75%'])"
   ]
  },
  {
   "cell_type": "code",
   "execution_count": null,
   "metadata": {},
   "outputs": [],
   "source": [
    "# create df of predicted positives for Extreme GradientBoost model\n",
    "xgb_positives = misclass_df.loc[misclass_df['xgb_wnv']==1]\n",
    "# get the overall description of the gb predicted positives set\n",
    "xgb_positives_des = xgb_positives.describe()\n",
    "\n",
    "# specify the median, 1st quartile and 3rd quartile of this df\n",
    "# append to compare_misclass df\n",
    "compare_misclass['xgb_post_1stQrt'] = pd.Series(xgb_positives_des.loc['25%'])\n",
    "compare_misclass['xgb_post_median'] = pd.Series(xgb_positives_des.loc['50%'])\n",
    "compare_misclass['xgb_post_3rdQrt'] = pd.Series(xgb_positives_des.loc['75%'])"
   ]
  },
  {
   "cell_type": "code",
   "execution_count": null,
   "metadata": {
    "scrolled": true
   },
   "outputs": [],
   "source": [
    "compare_misclass #check"
   ]
  },
  {
   "cell_type": "markdown",
   "metadata": {},
   "source": [
    "### 3.1. Misclassification Analysis of the Gradient Boost model\n",
    "[top](#Contents)"
   ]
  },
  {
   "cell_type": "code",
   "execution_count": null,
   "metadata": {},
   "outputs": [],
   "source": [
    "misclass_df"
   ]
  },
  {
   "cell_type": "code",
   "execution_count": null,
   "metadata": {
    "scrolled": true
   },
   "outputs": [],
   "source": [
    "# looking at the actual wnv but predicted by GB model as not-wnv group\n",
    "# we see some are actually predicted to by wnv by other models\n",
    "misclass_df.iloc[:,-7:].loc[(misclass_df['wnv_present'] == 1) & (misclass_df['gb_wnv'] == 0)]"
   ]
  },
  {
   "cell_type": "code",
   "execution_count": null,
   "metadata": {},
   "outputs": [],
   "source": [
    "# plotting a particular tree diagram as an example of how the splits were done\n",
    "sub_tree = gs_1.best_estimator_.named_steps['gboost'].estimators_[37,0]  # tree no. 37 selected\n",
    "\n",
    "dot_data = export_graphviz(\n",
    "    sub_tree,\n",
    "    out_file=None, filled=True, rounded=True,\n",
    "    special_characters=True, feature_names=features,\n",
    "    proportion=False, impurity=False,\n",
    ")\n",
    "graph = graph_from_dot_data(dot_data)\n",
    "Image(graph.create_png(), width=1000, height = 900)"
   ]
  },
  {
   "cell_type": "code",
   "execution_count": null,
   "metadata": {},
   "outputs": [],
   "source": [
    "# looking at characteristics of actual positives and predicted positives from GradientBoost model\n",
    "# based on top10 features of our GradientBoost model\n",
    "gb_top10_feature_names = gb_top10.index.tolist()\n",
    "compare_misclass.loc[gb_top10_feature_names].iloc[:, :6]"
   ]
  },
  {
   "cell_type": "markdown",
   "metadata": {},
   "source": [
    "Looking at just the top10 important features, the IQR characteristics were mainly similar except for:\n",
    "- avgspeed: actual IQR = (25% = 6, 50% = 6.45, 75% = 8.9) whereas predicted IQR = (6, 7.2, 9.6) with the predictions' IQR distribution included datapoints with higher avgspeed\n",
    "<br>\n",
    "\n",
    "- precipitation_roll_14: actual IQR = (0.072, 0.134, 0.258) whereas predicted IQR = (0.066, 0.083, 0.258) with the predictions' IQR distribution included datapoints with lower 14-day rolling average precipitation\n",
    "<br>\n",
    "\n",
    "- wetbulb_roll_7: the predictions' IQR distribution shifted rightwards compared to the actual IQR distribution\n",
    "<br>\n",
    "\n",
    "- daylength: similarly, the predictions' IQR distribution shifted rightwards compared to the actual IQR distribution"
   ]
  },
  {
   "cell_type": "code",
   "execution_count": null,
   "metadata": {
    "scrolled": false
   },
   "outputs": [],
   "source": [
    "for i in range(10):\n",
    "    fig, ax = plt.subplots(figsize=(8, 8))\n",
    "    feature_name = gb_top10_feature_names[i]\n",
    "    feat_act = act_positives[feature_name].tolist()\n",
    "    feat_pred = gb_positives[feature_name].tolist()\n",
    "    box = [feat_act, feat_pred]\n",
    "    ax.set_title(feature_name)\n",
    "    ax.set_xticklabels(['actual_positive', 'gb_predicted_positive'])\n",
    "    bp = ax.boxplot(box)"
   ]
  },
  {
   "cell_type": "markdown",
   "metadata": {},
   "source": [
    "Visually, from the boxplots, the disparity is obvious especially for features like stnpressure_roll_14, mintemp_roll_14, wetbulb_roll_14, avgspeed, and daylength. "
   ]
  },
  {
   "cell_type": "markdown",
   "metadata": {},
   "source": [
    "### 3.2. Misclassification Analysis of the AdaBoost model\n",
    "[top](#Contents)"
   ]
  },
  {
   "cell_type": "code",
   "execution_count": null,
   "metadata": {},
   "outputs": [],
   "source": [
    "# looking at the actual wnv but predicted by Adaboost model as not-wnv group\n",
    "# similarly, we see some are actually predicted to by wnv by other models\n",
    "misclass_df.iloc[:,-7:].loc[(misclass_df['wnv_present'] == 1) & (misclass_df['ab_wnv'] == 0)]"
   ]
  },
  {
   "cell_type": "code",
   "execution_count": null,
   "metadata": {
    "scrolled": true
   },
   "outputs": [],
   "source": [
    "# plotting a particular tree diagram as an example of how the splits were done\n",
    "# since AdaBoost is adaptive based on a single learner split, the diagram is not very instructive\n",
    "# this is mostly shown for reference\n",
    "sub_tree = gs_2.best_estimator_.named_steps['ada'].estimators_[37]  # tree no. 37 selected\n",
    "\n",
    "dot_data = export_graphviz(\n",
    "    sub_tree,\n",
    "    out_file=None, filled=True, rounded=True,\n",
    "    special_characters=True, feature_names=features,\n",
    "    proportion=False, impurity=False,\n",
    ")\n",
    "graph = graph_from_dot_data(dot_data)\n",
    "Image(graph.create_png(), width=200, height = 200)"
   ]
  },
  {
   "cell_type": "code",
   "execution_count": null,
   "metadata": {},
   "outputs": [],
   "source": [
    "# looking at characteristics of actual positives and predicted positives from AdaBoost model\n",
    "# based on top10 features of our AdaBoost model\n",
    "ada_top10_feature_names = ada_top10.index.tolist()\n",
    "compare_misclass.loc[ada_top10_feature_names].iloc[:, [0,1,2,6,7,8]]"
   ]
  },
  {
   "cell_type": "markdown",
   "metadata": {},
   "source": [
    "Looking at just the top10 important features, the IQR characteristics were slightly different for the top few features compared to the actual IQR:\n",
    "- mintemp: actual IQR = (25% = 63, 50% = 69, 75% = 71) whereas predicted IQR = (61, 66, 69) with the predictions' IQR distribution shifted leftwards compared to the actual IQR distribution\n",
    "<br>\n",
    "\n",
    "- avgspeed_roll_7: actual IQR = (6.5, 6.936, 8.046) whereas predicted IQR = (6.579, 7.621, 8.514) with the predictions' IQR distribution included datapoints with high 7-day rolling average speed\n",
    "<br>\n",
    "\n",
    "- avgspeed: the predictions' IQR distribution shifted rightwards compared to the actual IQR distribution\n",
    "<br>\n",
    "\n",
    "- precipitation_roll_14: the predictions' IQR distribution included more datapoints in the lower end of the distribution such that the median was significantly lower compared to the actual median\n",
    "<br>\n",
    "\n",
    "- dewpoint_roll_7: the predictions' IQR distribution shifted leftwards compared to the actual IQR distribution\n",
    "<br>\n",
    "\n",
    "- daylength: the predictions' IQR distribution shifted leftwards compared to the actual IQR distribution\n",
    "<br>\n",
    "\n",
    "- avgtemp: the predictions' distributions probably included more datapoints in the 25th-50th quartile such that the median and 75th percentile decreased"
   ]
  },
  {
   "cell_type": "code",
   "execution_count": null,
   "metadata": {
    "scrolled": false
   },
   "outputs": [],
   "source": [
    "for i in range(10):\n",
    "    fig, ax = plt.subplots(figsize=(8, 8))\n",
    "    feature_name = ada_top10_feature_names[i]\n",
    "    feat_act = act_positives[feature_name].tolist()\n",
    "    feat_pred = ab_positives[feature_name].tolist()\n",
    "    box = [feat_act, feat_pred]\n",
    "    ax.set_title(feature_name)\n",
    "    ax.set_xticklabels(['actual_positive', 'ab_predicted_positive'])\n",
    "    bp = ax.boxplot(box)"
   ]
  },
  {
   "cell_type": "markdown",
   "metadata": {},
   "source": [
    "For the AdaBoost model, the disparity was obvious for mintemp, avgspeed, dewpoint_roll_14, daylength and avgtemp."
   ]
  },
  {
   "cell_type": "markdown",
   "metadata": {},
   "source": [
    "### 3.3. Misclassification Analysis of the Extreme GradientBoost model\n",
    "[top](#Contents)"
   ]
  },
  {
   "cell_type": "code",
   "execution_count": null,
   "metadata": {
    "scrolled": false
   },
   "outputs": [],
   "source": [
    "# looking at the actual wnv but predicted by Adaboost model as not-wnv group\n",
    "# However, we see that the other models mostly failed to predict these as well\n",
    "misclass_df.iloc[:,-7:].loc[(misclass_df['wnv_present'] == 1) & (misclass_df['xgb_wnv'] == 0)]"
   ]
  },
  {
   "cell_type": "code",
   "execution_count": null,
   "metadata": {},
   "outputs": [],
   "source": [
    "# plotting a particular tree diagram as an example of how the splits were done\n",
    "xgb_model = gs_3.best_estimator_.named_steps['xgb']\n",
    "\n",
    "# specify the feature names\n",
    "xgb_model.get_booster().feature_names = features.tolist()\n",
    "\n",
    "fig, ax = plt.subplots(figsize=(20,20))\n",
    "\n",
    "plot_tree(xgb_model, num_trees=37, ax=ax);  # specify tree no. 37 to be shown"
   ]
  },
  {
   "cell_type": "code",
   "execution_count": null,
   "metadata": {},
   "outputs": [],
   "source": [
    "# looking at characteristics of actual positives and predicted positives from Extreme GradientBoost model\n",
    "# based on top10 features of our XGB model\n",
    "xgb_top10_feature_names = xgb_top10.index.tolist()\n",
    "compare_misclass.loc[xgb_top10_feature_names].iloc[:, [0,1,2,9,10,11]]"
   ]
  },
  {
   "cell_type": "markdown",
   "metadata": {},
   "source": [
    "Looking at just the top10 important features, similar to the Adaboost model, the IQR characteristics were slightly different for the top few features compared to the actual IQR:\n",
    "- daylength: actual IQR = (25% = 790, 50% = 820, 75% = 851) whereas predicted IQR = (780, 835, 866) with the predictions' IQR distribution included some points in the lower end of the distribution while adding much more points at the upper end of the distribution resulting in the 'stretching' of the predictions' distribution compared to the actual\n",
    "<br>\n",
    "\n",
    "- dewpoint_roll_14: actual IQR = (60.107, 62, 64.75) whereas predicted IQR = (58, 61.25, 64.429) with the predictions' IQR distribution included points in the lower end of the distribution resulting in the leftwards shift as well as a longer left tail\n",
    "<br>\n",
    "\n",
    "- wetbulb_roll_14: simiarly, the predictions IQR distribution included points in the lower end resulting in a slight leftwards shift and a longer left tail. actual IQR = (65.429, 67, 68.821), predicted IQR = (63.25, 66.75, 68.214)\n",
    "<br>\n",
    "\n",
    "- mintemp_roll_14: likewise, the predictions IQR distribution included points in the lower end resulting in a slight leftwards shift. actual IQR = (63.214, 64.5, 67.357), predicted IQR = (62.071, 64.286, 66.643)\n",
    "<br>\n",
    "\n",
    "- dewpoint_roll_7: actual IQR = (59.071, 63.071, 65.643) whereas predicted IQR = (57.643, 62.929, 65.643) with the predictions' IQR distribution included points in the lower end of the distribution resulting in a longer ('stretched') left tail"
   ]
  },
  {
   "cell_type": "code",
   "execution_count": null,
   "metadata": {
    "scrolled": false
   },
   "outputs": [],
   "source": [
    "for i in range(10):\n",
    "    fig, ax = plt.subplots(figsize=(8, 8))\n",
    "    feature_name = xgb_top10_feature_names[i]\n",
    "    feat_act = act_positives[feature_name].tolist()\n",
    "    feat_pred = xgb_positives[feature_name].tolist()\n",
    "    box = [feat_act, feat_pred]\n",
    "    ax.set_title(feature_name)\n",
    "    ax.set_xticklabels(['actual_positive', 'xbg_predicted_positive'])\n",
    "    bp = ax.boxplot(box)"
   ]
  },
  {
   "cell_type": "markdown",
   "metadata": {},
   "source": [
    "Likewise, for the ExtremeBoost model, high disparity is observed in daylength, dewpoint_roll_14, wetbulb_roll_14, mintemp_roll_14, and avgtemp."
   ]
  },
  {
   "cell_type": "markdown",
   "metadata": {},
   "source": [
    "In conclusion, we see that our 3 boosting models (based on decision trees) were individually not perfect in their splits but have each done an admirable job in predicting wnv rates, yielding top 10 features which largely made sense and corroborated the factors identified by various studies done on WNV research. Additionally, when looking at each model's false negative predictions, we note in some cases the other models were actually able to predict them correctly (with the exception of our XGBoost model's false negative predictions, where the other models also mostly failed to predict these correctly).\n",
    "\n",
    "With these findings, we are hopeful that a voting ensemble of our 3 models will give us an better overall prediction."
   ]
  },
  {
   "cell_type": "markdown",
   "metadata": {},
   "source": [
    "## 4. Production Model: creating a voting ensemble using our 3 models\n",
    "[top](#Contents)"
   ]
  },
  {
   "cell_type": "code",
   "execution_count": null,
   "metadata": {},
   "outputs": [],
   "source": [
    "# specify each models best estimators\n",
    "\n",
    "gb = make_pipeline(StandardScaler(),\n",
    "                   SMOTE(sampling_strategy=0.9, \n",
    "                         k_neighbors=10,\n",
    "                         random_state=42), \n",
    "                   GradientBoostingClassifier(loss='exponential',\n",
    "                                              learning_rate=0.2,\n",
    "                                              n_estimators=120,\n",
    "                                              max_depth=4,\n",
    "                                              random_state=42))\n",
    "\n",
    "ada = make_pipeline(StandardScaler(),\n",
    "                    SMOTE(sampling_strategy=0.65,\n",
    "                          k_neighbors=13,\n",
    "                          random_state=42),\n",
    "                    AdaBoostClassifier(learning_rate=0.7,\n",
    "                                       n_estimators=125,\n",
    "                                       random_state=42))\n",
    "\n",
    "xgb = make_pipeline(StandardScaler(),\n",
    "                    SMOTE(sampling_strategy=0.85, \n",
    "                          k_neighbors=4,\n",
    "                          random_state=42),\n",
    "                    XGBClassifier(eval_metric='auc',\n",
    "                                  learning_rate=0.14,\n",
    "                                  min_child_weight=3,\n",
    "                                  max_depth=4,\n",
    "                                  max_delta_step=8,\n",
    "                                  n_estimators=250,\n",
    "                                  colsample_bytree=0.65,\n",
    "                                  subsample=0.6,\n",
    "                                  reg_alpha=0.09,\n",
    "                                  reg_lambda=3,\n",
    "                                  gamma=0.05,\n",
    "                                  random_state=42))\n",
    "\n",
    "\n",
    "# create the ensemble model based on Voting Classifier\n",
    "ensemble = VotingClassifier(estimators=[('gb', gb), ('ada', ada), ('xgb', xgb)], \n",
    "                            voting='soft', \n",
    "                            n_jobs=-1,\n",
    "                            verbose=True)"
   ]
  },
  {
   "cell_type": "code",
   "execution_count": null,
   "metadata": {},
   "outputs": [],
   "source": [
    "# looking at cross val AUC-ROC score on train split\n",
    "auc_roc = cross_val_score(ensemble, X_train, y_train, scoring='roc_auc')\n",
    "auc_roc"
   ]
  },
  {
   "cell_type": "code",
   "execution_count": null,
   "metadata": {},
   "outputs": [],
   "source": [
    "# looking at AUC-ROC score on val set\n",
    "# roc-auc score on val set was similar to the rest of the 3 individual models\n",
    "ensemble.fit(X_train, y_train)\n",
    "vote_predict = ensemble.predict_proba(X_val)[:,1]\n",
    "roc_auc_score(y_val, vote_predict)"
   ]
  },
  {
   "cell_type": "code",
   "execution_count": null,
   "metadata": {},
   "outputs": [],
   "source": [
    "# confusion matrix for our voting classifier\n",
    "confusion_matrix(y_val, ensemble.predict(X_val))"
   ]
  },
  {
   "cell_type": "code",
   "execution_count": null,
   "metadata": {},
   "outputs": [],
   "source": [
    "# voting classifier classification report\n",
    "print(classification_report(y_val, ensemble.predict(X_val)))"
   ]
  },
  {
   "cell_type": "code",
   "execution_count": null,
   "metadata": {},
   "outputs": [],
   "source": [
    "# adding our ensemble model into the ROC AUC plot\n",
    "figure = plt.figure(figsize=(12,12))\n",
    "ax = plt.gca()\n",
    "Gboost_plot = plot_roc_curve(gs_1, X_val, y_val, name=grid_dict[0], ax=ax)\n",
    "Adaboost_plot = plot_roc_curve(gs_2, X_val, y_val, name=grid_dict[1], ax=ax)\n",
    "Xgb_plot = plot_roc_curve(gs_3, X_val, y_val, name=grid_dict[2], ax=ax)\n",
    "ensemble_plot = plot_roc_curve(ensemble, X_val, y_val, name='Ensemble', ax=ax)\n",
    "ax.plot(np.linspace(0, 1, 200),\n",
    "        np.linspace(0, 1, 200),\n",
    "        linestyle='--')\n",
    "plt.title('ROC Curve of GB / AdaBoost / Extreme GB & Ensemble Classifier Models', fontsize=18)\n",
    "plt.show()"
   ]
  },
  {
   "cell_type": "markdown",
   "metadata": {},
   "source": [
    "Our ensemble model AUC turns out to be **0.86**, which is similar AUC scores of the individual models. Additionally, the recall is relatively high at **0.74**. Recall score is calculated as true positive / (false negative + true positive), where the denominator is essentially all actual positives. Recall score is what we would like to focus on when there is a high cost associated with having false negatives (i.e. in this case - predicting wrongly that an area has no WNV occurrences, which could potentially lead to a serious WNV outbreak not being contained in time). \n",
    "\n",
    "Let's finally train our ensemble model on the whole training set and predict on the test set:"
   ]
  },
  {
   "cell_type": "code",
   "execution_count": null,
   "metadata": {},
   "outputs": [],
   "source": [
    "# fitting our ensemble voting classifier on the whole train set\n",
    "ensemble.fit(X, y)"
   ]
  },
  {
   "cell_type": "code",
   "execution_count": null,
   "metadata": {},
   "outputs": [],
   "source": [
    "# generate predictions probabilities on test set\n",
    "pred_prob_voting = ensemble.predict_proba(test_df)"
   ]
  },
  {
   "cell_type": "code",
   "execution_count": null,
   "metadata": {},
   "outputs": [],
   "source": [
    "# structure data for submission\n",
    "pred_prob_voting_wnv = [prob[1] for prob in pred_prob_voting]\n",
    "\n",
    "submit_voting = pd.DataFrame()\n",
    "submit_voting['Id'] = id_series\n",
    "submit_voting['WnvPresent'] = pred_prob_voting_wnv"
   ]
  },
  {
   "cell_type": "code",
   "execution_count": null,
   "metadata": {},
   "outputs": [],
   "source": [
    "submit_voting.to_csv('../submissions/voting_model.csv', index=False)"
   ]
  },
  {
   "cell_type": "code",
   "execution_count": null,
   "metadata": {},
   "outputs": [],
   "source": [
    "# out of curiosity, we submitted scores for each model for kaggle as well\n",
    "# gb model\n",
    "best_model_gb = gs_1.fit(X, y)\n",
    "pred_prob_gb = best_model_gb.predict_proba(test_df)\n",
    "pred_prob_gb_wnv = [prob[1] for prob in pred_prob_gb]\n",
    "\n",
    "test_submit_gb = pd.DataFrame()\n",
    "test_submit_gb['Id'] = id_series\n",
    "test_submit_gb['WnvPresent'] = pred_prob_gb_wnv\n",
    "\n",
    "test_submit_gb.to_csv('../submissions/gb_model.csv', index=False)\n",
    "\n",
    "# ab model\n",
    "best_model_ab = gs_2.fit(X, y)\n",
    "pred_prob_ab = best_model_ab.predict_proba(test_df)\n",
    "pred_prob_ab_wnv = [prob[1] for prob in pred_prob_ab]\n",
    "\n",
    "test_submit_ab = pd.DataFrame()\n",
    "test_submit_ab['Id'] = id_series\n",
    "test_submit_ab['WnvPresent'] = pred_prob_ab_wnv\n",
    "\n",
    "test_submit_ab.to_csv('../submissions/ab_model.csv', index=False)\n",
    "\n",
    "# xgb model\n",
    "best_model_xgb = gs_3.fit(X, y)\n",
    "pred_prob_xgb = best_model_xgb.predict_proba(test_df)\n",
    "pred_prob_xgb_wnv = [prob[1] for prob in pred_prob_xgb]\n",
    "\n",
    "test_submit_xgb = pd.DataFrame()\n",
    "test_submit_xgb['Id'] = id_series\n",
    "test_submit_xgb['WnvPresent'] = pred_prob_xgb_wnv\n",
    "\n",
    "test_submit_xgb.to_csv('../submissions/xgb_model.csv', index=False)"
   ]
  },
  {
   "cell_type": "markdown",
   "metadata": {},
   "source": [
    "### 4.1. Kaggle Scoring\n",
    "[top](#Contents)"
   ]
  },
  {
   "cell_type": "markdown",
   "metadata": {},
   "source": [
    "We submitted 4 scores onto Kaggle, including the 3 individual models, as well as our ensemble model to observe their predictive performance. Individually, the models scored in the range of 0.69 - 0.72, and somewhat surprisingly, our Extreme GradientBoost model did the worst of the 3. However, our voting model did much better with a score of **0.75**, which was a significant improvement over all 3 individual models. This suggests that the models may have had sufficient variance such that they were able to cover for each other's shortcomings. "
   ]
  },
  {
   "attachments": {
    "image.png": {
     "image/png": "[encoded data removed]"
    }
   },
   "cell_type": "markdown",
   "metadata": {},
   "source": [
    "![image.png](attachment:image.png)\n",
    "\n",
    "With our model trained and in place to perform predictions, the next step would be to determine how best it can be deployed to aid the city's administration in performing targeted vector control measures (e.g. spraying) in the city of Chicago. \n",
    "\n",
    "The next section details how spraying is typically being carried out as an effective form of vector control."
   ]
  },
  {
   "cell_type": "markdown",
   "metadata": {},
   "source": [
    "## 5. Overview of Spraying Control Measures\n",
    "[top](#Contents)"
   ]
  },
  {
   "cell_type": "markdown",
   "metadata": {},
   "source": [
    "There are currently no effective treatments for WNV, and the prevention of disease primarily relies on pest management programmes and control measures, such as the application of pesticides to be in place."
   ]
  },
  {
   "cell_type": "markdown",
   "metadata": {},
   "source": [
    "### 5.1. Efficacy of Spraying\n",
    "[top](#Contents)"
   ]
  },
  {
   "cell_type": "markdown",
   "metadata": {},
   "source": [
    "From our earlier visual exploration of the spray dataset and its effect on reducing WNV rates using `folium`, due to the lack of relevant trap data immediately before and after spraying a particular area, we were not able to conclusively state that spraying was able to reduce the number of positive WNV cases in an area. Nonetheless, based on the limited data that was available, we could still observe that spraying was able to effectively reduce the adult mosquito population, and likely the number of WNV positive mosquitoes as well.\n",
    "\n",
    "As cited by a paper titled *Reducing West Nile Virus Risk Through Vector Management*, published by the Journal of Medical Entomology, several studies have also illustrated the effectiveness of spraying aerial adulticide as a reactionary control measure against WNV outbreaks:"
   ]
  },
  {
   "cell_type": "markdown",
   "metadata": {},
   "source": [
    "### 5.2. Reactionary Control Measures\n",
    "[top](#Contents)"
   ]
  },
  {
   "cell_type": "markdown",
   "metadata": {},
   "source": [
    "1. **Sacramento-Yolo Mosquito and Vector Control District (2005):** Applications of adulticide were conducted on 3 consecutive nights in 2 treatment areas and the results indicated a 75% reduction of Culex pipens and a 48.7% reduction in Culex tarsalis population in the treated area compared to the untreated area. Additionally, human WNV case incidence was significantly lower in the treated area compared to the untreated area, with the odds of human WNV infections approximately 6 times higher in the untreated area compared to equal odds before the treatment. \n",
    "\n",
    "\n",
    "2. **Texas WNV outbreak in 2012:** Spraying was conducted 3 times between 16 Aug to 2 Sep 2012 and it was found that WNV neuroinvasive disease incidence decreased from 7.31/100,000 before treatment to 0.28/100,000 after treatment in the treated area.\n",
    "\n",
    "\n",
    "3. **Chicago WNV outbreak in 2005:** 2 treatments applied 7 days apart during the week of 31 Jul and 7 Aug reduced adult mosquito abundance by 54% in the treated areas. During this same period, mosquito abundance actually increased by 153% in the untreated areas. Furthermore, a second round of 2 treatments in the later weeks of Aug 2005 resulted in a 29% reduction in abundance compared to before the treatments. \n",
    "\n",
    "While the above showed the reactionary effects (i.e. reaction after a WNV outbreak) of spraying, the same paper also highlights studies which look into proactive preventive measures - preventing the WNV transmission intensity from even reaching a level that produce outbreaks of human disease."
   ]
  },
  {
   "cell_type": "markdown",
   "metadata": {},
   "source": [
    "### 5.3. Proactive Control Measures\n",
    "[top](#Contents)"
   ]
  },
  {
   "cell_type": "markdown",
   "metadata": {},
   "source": [
    "1. **Atlanta:** Larvicides was applied to catch basins in urban park areas over the course of 2 seasons and resulted in  more than 90% decrease in larval/pupal production in the catch basins. \n",
    "\n",
    "2. **Southern California:** In the first 2 seasons, limited reactive aerial spraying was noted to be insufficient to reduce vector mosquito abundance, WNV infection rates in mosquitoes or spread of WNV transmission. However, in the third year of the study, when intensive spraying was done at the first detection of WNV in mosquitoes which continued weekly, there was an average of 61% reduction in vector abundance and also associated reductions in WNV infection rates. \n",
    "\n",
    "3. **Sacramento (2007):** In late Jul 2007, WNV infection rates in Culex tarsalis and pipiens mosquitoes had exceeded levels of concern established by the California Department of Health which lead to spraying to a 215 sq km area each day for 3 consecutive days. This resulted in a 57% and 40% reduction in tarsalis and pipiens abundance respectively. Additionally, the WNV infection rate in declined by 77% and 21% in tarsalis and pipiens mosquitoes respectively during the 3 days following the treatments compared to the previous 3 days.\n"
   ]
  },
  {
   "cell_type": "markdown",
   "metadata": {},
   "source": [
    "### 5.4. Reactive vs Proactive approach to vector control\n",
    "[top](#Contents)"
   ]
  },
  {
   "cell_type": "markdown",
   "metadata": {},
   "source": [
    "The above literature suggests that spraying, be it reactive or preventive, is indeed a useful means of controlling the WNV carrier mosquito population, and consequently the WNV infection rates. **Reactive efforts** usually start after most human infections have occurred and the outbreak is already starting to decline naturally. The measures implemented to stop an ongoing WNV outbreak can still be effective provided that they are sufficiently intensive. However, these are usually expensive in terms of the cost of control measures as well as economic costs resulting from human infections that have already occurred. \n",
    "\n",
    "A more effective approach would thus be **proactively** establishing surveillance systems for monitoring mosquito numbers and WNV infection rates in mosquito vectors, as well as the appropriate response plans to intensify control efforts when particular threshold levels are met. Some factors that influence these threshold levels could include counts of dead birds, temperature, rainfall and human case surveillance, among others. These factors, coupled with localized knowledge of vector hotspots as well as experiences with previous outbreaks can lead to better effective management of WNV transmission. The authors suggest that due to the localized nature of vector developments, there is no one-size-fit-all approach in mosquito control, and hence each state/county should implement their own proactive mosquito control management based on localized historical data.\n",
    "\n",
    "Our model, which has been trained on historical Chicago data is hence an example of the latter proactive approach, as we are able to predict the locations that are likely to have WNV occurrences based on weather data and other historical factors, and perform targeted spraying of these specific areas during months when virus-transmission rates are high. In the subsequent analysis, we will assume that spraying has **100% efficacy in completely eliminating any occurrence of human WNV cases in the sprayed areas**. This is in line with the findings from an earlier study done, which showed that after a 2005 emergency aerial spray in Sacramento County, it was observed that there were no incident human cases in a treated area, compared to 18 cases in an untreated area (which served as the control)."
   ]
  },
  {
   "cell_type": "markdown",
   "metadata": {},
   "source": [
    "### 5.5. Historical costs of vector control\n",
    "[top](#Contents)"
   ]
  },
  {
   "cell_type": "markdown",
   "metadata": {},
   "source": [
    "The same literature also examine some of the direct costs of spraying or control WNV outbreaks which we can draw reference from:\n",
    "\n",
    "1. **New York State, city and 4 counties (1999)**: In its first outbreak response to WNV, the state, city and 4 counties spent more than USD 14 million on protective measures such as mosquito control from late August through October.\n",
    "\n",
    "2. **St. Tammany Parish (Louisiana - 2002)**: Additional mosquito control activities during the 2002 WNV outbreak cost USD 1.7 million over their usual USD 2 million budget.\n",
    "\n",
    "3. **Sacremento (2005)**: The district spent USD 700,000 on aerial ULV applications alone in response to the 2005 WNV outbreak. \n",
    "\n",
    "4. **Dallas County (2012)**: Similarly, aerial ULV applications during the 2012 outbreak cost approximately USD 1.7 million.\n",
    "\n",
    "It is worth noting that in these 4 instances the measures were reactionary, typically in response to an occurring outbreak and that the costs were exorbitantly high just to control it."
   ]
  },
  {
   "cell_type": "markdown",
   "metadata": {},
   "source": [
    "## 6. Cost Benefit Analysis & Recommendations\n",
    "[top](#Contents)"
   ]
  },
  {
   "cell_type": "markdown",
   "metadata": {},
   "source": [
    "In light of our predicted results for WNV occurrences in the various traps spread throughout Chicago (in the test dataset), our aim is to recommend the extent and frequency of spraying to be performed. This will be achieved by weighing the potential costs incurred and benefits derived from spraying the affected areas."
   ]
  },
  {
   "cell_type": "markdown",
   "metadata": {},
   "source": [
    "### 6.1. Human costs of WNV Disease\n",
    "[top](#Contents)"
   ]
  },
  {
   "cell_type": "markdown",
   "metadata": {},
   "source": [
    "This [paper](https://www.cmmcp.org/sites/g/files/vyhlif2966/f/uploads/cost_of_wnv_disease_among_hospitalized_patients.pdf) examines the initial and long-term costs of patients hospitalized with WNV disease which includes the lost-productivity from 80 patients hospitalized with WNV disease in Colorado in 2003. Based on past data, approximately 80% of WNV human infections are asymptomatic while symptomatic persons experience an acute systemic febrile illness, known as WNV fever or non-nueroinvasive disease which includes headache or rash. However, less than 1% will develop a more serious neuroinvasive disease which manifests as encephalitis (infection of the brain), meningitis (inflammation of the protective membranes covering the brain and spinal cord) or acute flaccid paralysis (AFP: weakness or paralysis with reduced muscle tone). \n",
    "\n",
    "Most patients with WNV meningitis or non-neuroinvasive disease recover completely, but fatigue and malaise can linger for weeks or months. Patients who recover from encephalitis or AFP often  have residual neurologic deficits with a higher than 10% chance of fatality. The associated costs (median with range) are summarized in the table below:\n",
    "\n",
    "\n",
    "| Referenced   to 2012 USD                       | Fever (N=18)             | Meningitis (N=19)          | Encephalitis (N=16)          | AFP (N=27)                     |\n",
    "|------------------------------------------------|--------------------------|----------------------------|------------------------------|--------------------------------|\n",
    "| **Direct costs:**                                  |                          |                            |                              |                                |\n",
    "| Inpatient hospital costs                       | 4,467       (419-23,374) | 7,261       (337-13,633)   | 15,136       (3,734-207,303) | 20,774       (5,066-264,176)   |\n",
    "| Lost productivity                              | 328       (92-2,729)     | 682       (68-1,592)       | 1,380       (113-307,871)    | 2,136       (232-145,750)      |\n",
    "| Total direct initial costs                     | 4,617       (538-24,010) | 7,942       (1,057-14,569) | 20,105       (3,965-324,167) | 25,117       (5,385 - 283,381) |\n",
    "|                                                |                          |                            |                              |                                |\n",
    "| **Long-term costs:**                               | **Fever (N=12)**             | **Meningitis (N=11)**          | **Encephalitis (N=5)**           | **AFP (N=10)**                     |\n",
    "| Medical appointments                           | 109       (0-677)        | 0       (0-851)            | 495       (0-17,160)         | 3,671       (452-12,093)       |\n",
    "| Additional care costs                          | 0       (0-8,900)        | 0       (0)                | 334       (0-10,013)         | 278       (0-6,119)            |\n",
    "| Medicines & equipment                          | 72       (0-5,320)       | 33       (0-1,305)         | 109       (0-1,964)          | 590       (106-427,028)        |\n",
    "| Lost productivity                              | 1,180       (0-39,760)   | 10,363       (0-258,592)   | 0       (0-5,596)            | 6,771       (0-143,033)        |\n",
    "| Total long-term costs                          | 2,271       (0-41,401)   | 10,556       (0-260,748)   | 8,055       (0-23,693)       | 22,628       (624-439,945)     |\n",
    "|                                                |                          |                            |                              |                                |\n",
    "| Simple   overall median       (not from paper) | 6,888                    | 18,498                     | 28,160                       | 47,745                         |\n",
    "<br>\n",
    "\n",
    "Persons diagnosed with AFP incurred the most expense due to the severity of AFP, which often results in paresis (partial paralysis) to extensive paralysis, including neuromuscular respiratory failure, which are often permanent effects. Lost productivity was notably lower for encephalitis cases because encephalitis tended to occur in older individuals who were retired and thus incurred no lost productivity in the study. <br>\n"
   ]
  },
  {
   "cell_type": "markdown",
   "metadata": {},
   "source": [
    "### 6.2. Annual Cost\n",
    "[top](#Contents)"
   ]
  },
  {
   "cell_type": "markdown",
   "metadata": {},
   "source": [
    "The costs incurred due to spraying are two-fold:\n",
    "\n",
    "- Contractual price for spraying (depends on frequency, area of coverage, and mode of delivery) for mosquito control\n",
    "\n",
    "- Damage to the non-target organisms, humans, and the environment as a result of spraying\n",
    "\n",
    "**Assumptions Made**\n",
    "\n",
    "- Chicago has a total land area of **601.6** square kilometers\n",
    "\n",
    "- Unit cost of spraying on truck mounted ULV per linear mile: USD 50 (based on below rate for a contract tender in 2016). This translate to about USD 28.6 per linear km. As this was based on a contract tender in 2016, we adjusted the figure upwards to account for inflation to year 2020 and arrived at a rate of USD 35 per linear km.  \n",
    "\n",
    "- Additionally, back-pack ULV costs USD 190 per 1/4 linear mile which translates to about USD 560 per linear km after inflation. \n",
    "\n",
    "- [Chicago](https://www.chicago.gov/city/en/depts/cdot/provdrs/street.html) has more than 4,000 miles of streets and 1,900 miles of alleys which translates to 6,450 km of streets and 3050 km of alleys. \n",
    "\n",
    "- To fully spray Chicago using trucks and back-pack ULV to reach places not accessible by streets (parks, surroundings of water bodies, etc), we assume that the streets will be fully used while the alleys needed to cover the remaining area are about 40% of the 3,050 km of alleys. \n",
    "\n",
    "- Thus, the full cost to cover spraying the entire Chicago city once is about USD 1 million. \n",
    "\n",
    "- The spraying will be applied at least 4 times during the mosquito season (Aug/Sep), as a one-time application typically lasts about 14-21 days. We will take the mosquito season to last 2 mosquito breeding cycles.\n",
    "\n",
    "- Previous risk assessments using exposure scenarios for pyrethrins (the typical pesticides used in spraying) that exceed what is used in a typical spraying scenario have risks that are below Environmental Protection Agency levels of concern. As such, **the ecological and human impact of spraying is taken to be 0**.\n",
    "\n",
    "**Total Cost**\n",
    "\n",
    "- With the above simplifying assumptions, the overall cost of spraying to cover the entire city of Chicago is determined to be **USD 4 million**.\n",
    "\n",
    "**Chicago Department of Public Health Budget**\n",
    "\n",
    "- [2019 overall public health budget](https://www.chicago.gov/content/dam/city/depts/obm/supp_info/2019Budget/2019BudgetOverview.pdf) was USD 35 million"
   ]
  },
  {
   "attachments": {
    "image.png": {
     "image/png": "[encoded data removed]"
    }
   },
   "cell_type": "markdown",
   "metadata": {},
   "source": [
    "**Adult Mosquito Fogging Pricing (City of Burleson - Texas, 2016)**\n",
    "<br>\n",
    "[Source](https://destinyhosted.com/burledocs/2016/CCREG/20160620_260/1214_BURL%20MosquitoContract%202016%20(2).pdf)\n",
    "<div>\n",
    "<img style='float: left;' src =\"attachment:image.png\" width=\"600\"/>\n",
    "\n"
   ]
  },
  {
   "cell_type": "markdown",
   "metadata": {},
   "source": [
    "### 6.3. Annual Benefit\n",
    "[top](#Contents)"
   ]
  },
  {
   "cell_type": "markdown",
   "metadata": {},
   "source": [
    "The benefits to be derived from spraying mainly comprise the following:\n",
    "\n",
    "- Avoidance of medical treatment costs\n",
    "- Avoidance of productivity loss due to hospitalization of patients with WNV\n",
    "\n",
    "**Assumptions Made**\n",
    "\n",
    "- Number of cases of WNV per year is about **35**, based on the average number of wnv cases from 2012-2018. (see chart from Part 1 of the notebook)\n",
    "\n",
    "- The overall median costs due to treatment and lost of productivity of a WNV patient, based on a weighted average of the table above, is estimated to be **USD 28,000**.\n",
    "\n",
    "**Total Benefits**\n",
    "\n",
    "While it is unethical to create a control and treatment group to verify the true benefits, recall that in the Sacramento-Yolo Mosquito and Vector Control District (2005) study, odds of wnv infections was 6 times higher in the untreated area compared to the treated area. Hence, based on a simple calculation, should there be no spraying in Chicago city, the number of cases of WNV could potentially reach 210 cases per annum (35 average cases x 6). Translating this to benefits, we assume that the total benefits to be USD 6 million (total estimated cost incurred if no intervention) - USD 1 million (total cost incurred with intervention) = **USD 5 million**\n",
    "\n",
    "Thus, based on the above calculations and weighing the total costs/benefits, current vector management program in Chicago is assumed to derive a net benefit of **USD 1 million per year**. "
   ]
  },
  {
   "cell_type": "markdown",
   "metadata": {},
   "source": [
    "### 6.4. Recommendations\n",
    "[top](#Contents)"
   ]
  },
  {
   "cell_type": "markdown",
   "metadata": {},
   "source": [
    "Recall that the city's public health budget for 2019 was USD 36 million. The assumed USD 4 million spent per year on spraying constitutes more than 10% of the annual budget and **might not be sustainable** given that the department will need to allocate funds for other uses in public health as well as other vector control approaches. \n",
    "\n",
    "Additionally, we also note that the above calculations on the benefits may severely underestimate the true number of cases that are prevented by the spray, as it is difficult to account for undiagnosed and unreported WNV cases. Pain and distress suffered by patients and their loved ones are also not easy to quantify in terms of monetary costs.\n",
    "\n",
    "As such, we can use our model in the following manner: \n",
    "1. to feed relevant forecasted weather data and our engineered features into the model, and *proactively* perform spraying only on **mosquito hotspots that are predicted by our model to have a high likelihood of WNV positive occurrence**. This will achieve the biggest impact in terms of mosquito reduction. Given our model recall score of 0.74 and taking into account the number of false negatives (thus, the need for spraying after wnv traps are detected by current methods), we hope to reduce the cost of spraying by 30% initially, translating to further cost savings of **USD 1.2 million**. \n",
    "2. further assume that with our model prediction, we can drive the average wnv infection rates down by 50%, which will achieve an **additional benefit of USD 500,000 per annum** based on the reduced infection rate.   \n",
    "\n",
    "**Overall, our model is able to deliver annual benefits of USD 1.7 million.** \n",
    "\n",
    "We also recommend the adoption of the complete, proactive vector management plan that was earlier touched upon, which relies on active monitoring and surveillance systems, with defined action plans for each threshold that is breached, combined with predictions generated by models based on forecasted weather variables. \n",
    "\n",
    "Other common prevention methods include identification of breeding sites, elimination or (if elimination is not possible) management of breeding sites. Individual household education is also essential to manage and control micro sites like tires, buckets, planters, pools, birdbaths, flowerpots or trash containers. \n",
    "\n",
    "Furthermore, recall in our model that we only have 1 feature that cannot be forecasted beforehand - `wnv_species`. All other features, especially weather features should be possible to have a decent and early forecast such that these can be used with our model. Is our model still workable when we drop `wnv_species`? We briefly tested this out and the answer is a decent affirmative with a slight loss in AUC, but huge increase in predictability and useablilty for the city of Chicago:"
   ]
  },
  {
   "cell_type": "code",
   "execution_count": null,
   "metadata": {},
   "outputs": [],
   "source": [
    "X = train.drop(['date', 'wnvpresent', 'nummosquitos', 'species_wnv_species'],\n",
    "               axis=1)\n",
    "y = train['wnvpresent']"
   ]
  },
  {
   "cell_type": "code",
   "execution_count": null,
   "metadata": {},
   "outputs": [],
   "source": [
    "test_df.drop(['species_wnv_species'], axis=1, inplace=True)"
   ]
  },
  {
   "cell_type": "code",
   "execution_count": null,
   "metadata": {},
   "outputs": [],
   "source": [
    "X_train, X_val, y_train, y_val = train_test_split(X, y, test_size = 0.3, stratify=y, random_state=42)"
   ]
  },
  {
   "cell_type": "code",
   "execution_count": null,
   "metadata": {},
   "outputs": [],
   "source": [
    "# looking at cross val AUC-ROC score on train split\n",
    "auc_roc = cross_val_score(ensemble, X_train, y_train, scoring='roc_auc')\n",
    "auc_roc"
   ]
  },
  {
   "cell_type": "code",
   "execution_count": null,
   "metadata": {},
   "outputs": [],
   "source": [
    "# looking at AUC-ROC score on val set\n",
    "# roc-auc score on val set was similar to the rest of the 3 individual models\n",
    "ensemble.fit(X_train, y_train)\n",
    "vote_predict = ensemble.predict_proba(X_val)[:,1]\n",
    "roc_auc_score(y_val, vote_predict)"
   ]
  },
  {
   "cell_type": "code",
   "execution_count": null,
   "metadata": {},
   "outputs": [],
   "source": [
    "confusion_matrix(y_val, ensemble.predict(X_val))"
   ]
  },
  {
   "cell_type": "code",
   "execution_count": null,
   "metadata": {},
   "outputs": [],
   "source": [
    "print(classification_report(y_val, ensemble.predict(X_val)))"
   ]
  },
  {
   "cell_type": "code",
   "execution_count": null,
   "metadata": {},
   "outputs": [],
   "source": [
    "# fitting our ensemble voting classifier on the whole train set\n",
    "ensemble.fit(X, y)"
   ]
  },
  {
   "cell_type": "code",
   "execution_count": null,
   "metadata": {},
   "outputs": [],
   "source": [
    "# generate predictions probabilities on test set\n",
    "pred_prob_voting = ensemble.predict_proba(test_df)"
   ]
  },
  {
   "cell_type": "code",
   "execution_count": null,
   "metadata": {},
   "outputs": [],
   "source": [
    "# structure data for submission\n",
    "pred_prob_voting_wnv = [prob[1] for prob in pred_prob_voting]\n",
    "\n",
    "submit_voting = pd.DataFrame()\n",
    "submit_voting['Id'] = id_series\n",
    "submit_voting['WnvPresent'] = pred_prob_voting_wnv"
   ]
  },
  {
   "cell_type": "code",
   "execution_count": null,
   "metadata": {},
   "outputs": [],
   "source": [
    "submit_voting.to_csv('../submissions/voting_model_drop_species.csv', index=False)"
   ]
  },
  {
   "attachments": {
    "image.png": {
     "image/png": "[encoded data removed]"
    }
   },
   "cell_type": "markdown",
   "metadata": {},
   "source": [
    "![image.png](attachment:image.png)"
   ]
  },
  {
   "cell_type": "markdown",
   "metadata": {},
   "source": [
    "We see that our validation AUC-ROC score declined slightly from **0.863** to **0.852**, with the recall score remaining the same at **0.74**. On kaggle, the score dropped to **0.718** which is still decent in our opinion. We exchanged a slight drop in scoring with a model that can be fully used apriori which will help the city of Chicago implement a total proactive approach to vector and WNV management. "
   ]
  },
  {
   "cell_type": "markdown",
   "metadata": {},
   "source": [
    "## 7. Conclusions\n",
    "[top](#Contents)"
   ]
  },
  {
   "cell_type": "markdown",
   "metadata": {},
   "source": [
    "Our final `VotingClassifier` model which is fully predictive, comprises of an ensemble of`GradientBoostingClassifier`, `AdaBoostClassifier` and `XGBClassifier` boosting models achieved a validation AUC of **0.852** and recall of **0.74** on the validation dataset. Our submission to kaggle achieved an AUC score of **0.718**, indicating that our model achieved good success in separating the negative and positive class distributions, even in the unseen test dataset.\n",
    "\n",
    "The model is able to aid the city of Chicago's administration in determining the hotspot locations to perform targeted spraying of pesticides as a proactive form of mosquito control, thereby reducing the costs of preventing WNV to a manageable level, while still adequately protecting its people from being afflicted by the potentially life threatening disease.\n",
    "\n",
    "Future improvements to our model could involve the following:\n",
    "- Incorporate other potentially relevant features such as counts of dead birds, proximity to water bodies  \n",
    "- Obtaining more granular data to better account for the efficacy of spraying, e.g.\n",
    "    - Regular daily trap testing data for a week prior and after spraying\n",
    "    - Data for all traps within the spray areas\n",
    "    - Data for sprayed areas that have historically high number of mosquitos to better observe the spray effect"
   ]
  },
  {
   "cell_type": "markdown",
   "metadata": {},
   "source": [
    "## 8. References\n",
    "[top](#Contents)"
   ]
  },
  {
   "cell_type": "markdown",
   "metadata": {},
   "source": [
    "1. Costs of mosquito control (recurring treatment services)\n",
    "    - https://www.homeadvisor.com/cost/environmental-safety/mosquito-control/#once\n",
    "<br>    \n",
    "   \n",
    "   \n",
    "2. Reducing West Nile Virus Risk Through Vector Management\n",
    "    - https://www.cmmcp.org/sites/g/files/vyhlif2966/f/uploads/tjz083.pdf\n",
    "<br>    \n",
    "  \n",
    "  \n",
    "3. Economic Cost Analysis of West Nile Virus Outbreak, Sacramento County, California, USA, 2005    \n",
    "    - https://www.ncbi.nlm.nih.gov/pmc/articles/PMC3322011/pdf/09-0667_finalR.pdf\n",
    "<br>    \n",
    " \n",
    " \n",
    "4. Number of reported confirmed and probable cases of West Nile virus among Chicago residents by year, 2002-2012.\n",
    "    - https://www.chicago.gov/content/dam/city/depts/cdph/statistics_and_reports/CDInfo_2013_JULY_WNV.pdf\n",
    "<br>\n",
    "\n",
    "\n",
    "5. Initial and Long-Term Costs of Patients Hospitalized with West Nile Virus Disease\n",
    "    - https://www.cmmcp.org/sites/g/files/vyhlif2966/f/uploads/cost_of_wnv_disease_among_hospitalized_patients.pdf\n",
    "<br>\n",
    "\n",
    "\n",
    "6. Contract for Contingency Mosquito Fogging Services, City of Burleson, Texas, 2016\n",
    "    - https://destinyhosted.com/burledocs/2016/CCREG/20160620_260/1214_BURL%20MosquitoContract%202016%20(2).pdf\n",
    "    <br>\n",
    "    \n",
    "    \n",
    "7. City of Chicago, 2019 Budget Overview\n",
    "    - (https://www.chicago.gov/content/dam/city/depts/obm/supp_info/2019Budget/2019BudgetOverview.pdf)"
   ]
  }
 ],
 "metadata": {
  "kernelspec": {
   "display_name": "Python 3",
   "language": "python",
   "name": "python3"
  },
  "language_info": {
   "codemirror_mode": {
    "name": "ipython",
    "version": 3
   },
   "file_extension": ".py",
   "mimetype": "text/x-python",
   "name": "python",
   "nbconvert_exporter": "python",
   "pygments_lexer": "ipython3",
   "version": "3.8.3"
  },
  "toc": {
   "base_numbering": 1,
   "nav_menu": {},
   "number_sections": true,
   "sideBar": true,
   "skip_h1_title": false,
   "title_cell": "Table of Contents",
   "title_sidebar": "Contents",
   "toc_cell": false,
   "toc_position": {},
   "toc_section_display": true,
   "toc_window_display": false
  }
 },
 "nbformat": 4,
 "nbformat_minor": 4
}
